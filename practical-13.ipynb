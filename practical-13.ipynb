{
 "cells": [
  {
   "cell_type": "code",
   "execution_count": 2,
   "metadata": {
    "colab": {
     "base_uri": "https://localhost:8080/"
    },
    "executionInfo": {
     "elapsed": 2172,
     "status": "ok",
     "timestamp": 1621348669446,
     "user": {
      "displayName": "Ramesh Bhutka",
      "photoUrl": "https://lh3.googleusercontent.com/-jBSHGVJvh3M/AAAAAAAAAAI/AAAAAAAAchY/NveHJuhGTqU/s64/photo.jpg",
      "userId": "06756766942721289592"
     },
     "user_tz": -330
    },
    "id": "MGuuquKH0OjN",
    "outputId": "e7ed85f0-8063-4455-b313-2c420a66764a"
   },
   "outputs": [
    {
     "name": "stdout",
     "output_type": "stream",
     "text": [
      "NAME:- RAMESH BHUTKA\n",
      "SAP ID:- 5300419003\n"
     ]
    }
   ],
   "source": [
    "print(\"NAME:- RAMESH BHUTKA\")\n",
    "print(\"SAP ID:- 5300419003\")"
   ]
  },
  {
   "cell_type": "code",
   "execution_count": 3,
   "metadata": {
    "colab": {
     "base_uri": "https://localhost:8080/"
    },
    "executionInfo": {
     "elapsed": 2636,
     "status": "ok",
     "timestamp": 1621348670552,
     "user": {
      "displayName": "Ramesh Bhutka",
      "photoUrl": "https://lh3.googleusercontent.com/-jBSHGVJvh3M/AAAAAAAAAAI/AAAAAAAAchY/NveHJuhGTqU/s64/photo.jpg",
      "userId": "06756766942721289592"
     },
     "user_tz": -330
    },
    "id": "9yVKUIN40XH8",
    "outputId": "61790076-b347-4110-87d7-d0b8e4648e45"
   },
   "outputs": [
    {
     "name": "stdout",
     "output_type": "stream",
     "text": [
      "2021-05-18 14:37:51.428604\n"
     ]
    }
   ],
   "source": [
    "import datetime\n",
    "print(datetime.datetime.now())"
   ]
  },
  {
   "cell_type": "markdown",
   "metadata": {
    "id": "zBK-HYBmwanK"
   },
   "source": [
    "# practical-14b\n",
    "\n",
    "Using deep feed forward network with two hidden layers for performing multiclass classification and predicting the class."
   ]
  },
  {
   "cell_type": "code",
   "execution_count": 4,
   "metadata": {
    "executionInfo": {
     "elapsed": 4009,
     "status": "ok",
     "timestamp": 1621348674649,
     "user": {
      "displayName": "Ramesh Bhutka",
      "photoUrl": "https://lh3.googleusercontent.com/-jBSHGVJvh3M/AAAAAAAAAAI/AAAAAAAAchY/NveHJuhGTqU/s64/photo.jpg",
      "userId": "06756766942721289592"
     },
     "user_tz": -330
    },
    "id": "gg-Z-S-jwanM"
   },
   "outputs": [],
   "source": [
    "!pip install jovian --upgrade --quiet"
   ]
  },
  {
   "cell_type": "code",
   "execution_count": 5,
   "metadata": {
    "executionInfo": {
     "elapsed": 2492,
     "status": "ok",
     "timestamp": 1621348674651,
     "user": {
      "displayName": "Ramesh Bhutka",
      "photoUrl": "https://lh3.googleusercontent.com/-jBSHGVJvh3M/AAAAAAAAAAI/AAAAAAAAchY/NveHJuhGTqU/s64/photo.jpg",
      "userId": "06756766942721289592"
     },
     "user_tz": -330
    },
    "id": "zrspj9sRwanN"
   },
   "outputs": [],
   "source": [
    "import jovian"
   ]
  },
  {
   "cell_type": "code",
   "execution_count": 6,
   "metadata": {
    "colab": {
     "base_uri": "https://localhost:8080/",
     "height": 146
    },
    "executionInfo": {
     "elapsed": 10876,
     "status": "ok",
     "timestamp": 1621348683691,
     "user": {
      "displayName": "Ramesh Bhutka",
      "photoUrl": "https://lh3.googleusercontent.com/-jBSHGVJvh3M/AAAAAAAAAAI/AAAAAAAAchY/NveHJuhGTqU/s64/photo.jpg",
      "userId": "06756766942721289592"
     },
     "user_tz": -330
    },
    "id": "N51hs_tFwanN",
    "outputId": "6b81b6bf-b17d-497e-b359-4927fc7b6834"
   },
   "outputs": [
    {
     "name": "stdout",
     "output_type": "stream",
     "text": [
      "[jovian] Detected Colab notebook...\u001b[0m\n",
      "[jovian] Please enter your API key ( from https://jovian.ai/ ):\u001b[0m\n",
      "API KEY: ··········\n",
      "[jovian] Uploading colab notebook to Jovian...\u001b[0m\n",
      "[jovian] Capturing environment..\u001b[0m\n",
      "[jovian] Committed successfully! https://jovian.ai/rameshbhutka11/practical-14b\u001b[0m\n"
     ]
    },
    {
     "data": {
      "application/vnd.google.colaboratory.intrinsic+json": {
       "type": "string"
      },
      "text/plain": [
       "'https://jovian.ai/rameshbhutka11/practical-14b'"
      ]
     },
     "execution_count": 6,
     "metadata": {
      "tags": []
     },
     "output_type": "execute_result"
    }
   ],
   "source": [
    "# Execute this to save new versions of the notebook\n",
    "jovian.commit(project=\"practical-14b\")"
   ]
  },
  {
   "cell_type": "code",
   "execution_count": null,
   "metadata": {
    "id": "b42PapBMwanO"
   },
   "outputs": [],
   "source": []
  },
  {
   "cell_type": "code",
   "execution_count": 7,
   "metadata": {
    "executionInfo": {
     "elapsed": 3648,
     "status": "ok",
     "timestamp": 1621348688976,
     "user": {
      "displayName": "Ramesh Bhutka",
      "photoUrl": "https://lh3.googleusercontent.com/-jBSHGVJvh3M/AAAAAAAAAAI/AAAAAAAAchY/NveHJuhGTqU/s64/photo.jpg",
      "userId": "06756766942721289592"
     },
     "user_tz": -330
    },
    "id": "TbwG4y1Aw-bN"
   },
   "outputs": [],
   "source": [
    "import pandas\n",
    "from keras.models import Sequential\n",
    "from keras.layers import Dense\n",
    "from keras.wrappers.scikit_learn import KerasClassifier\n",
    "from keras.utils import np_utils\n",
    "from sklearn.model_selection import cross_val_score\n",
    "from sklearn.model_selection import KFold\n",
    "from sklearn.preprocessing import LabelEncoder\n",
    "from sklearn.pipeline import Pipeline"
   ]
  },
  {
   "cell_type": "code",
   "execution_count": 8,
   "metadata": {
    "executionInfo": {
     "elapsed": 2098,
     "status": "ok",
     "timestamp": 1621348688977,
     "user": {
      "displayName": "Ramesh Bhutka",
      "photoUrl": "https://lh3.googleusercontent.com/-jBSHGVJvh3M/AAAAAAAAAAI/AAAAAAAAchY/NveHJuhGTqU/s64/photo.jpg",
      "userId": "06756766942721289592"
     },
     "user_tz": -330
    },
    "id": "M38ySOxCw-1U"
   },
   "outputs": [],
   "source": [
    "# load dataset\n",
    "df = pandas.read_csv(\"https://raw.githubusercontent.com/Ramesh-Bhutka/AAI/main/iris.csv\")\n",
    "dataset = df.values\n",
    "X = dataset[:,0:4].astype(float)\n",
    "Y = dataset[:,4]"
   ]
  },
  {
   "cell_type": "code",
   "execution_count": 9,
   "metadata": {
    "colab": {
     "base_uri": "https://localhost:8080/",
     "height": 206
    },
    "executionInfo": {
     "elapsed": 1105,
     "status": "ok",
     "timestamp": 1621348691176,
     "user": {
      "displayName": "Ramesh Bhutka",
      "photoUrl": "https://lh3.googleusercontent.com/-jBSHGVJvh3M/AAAAAAAAAAI/AAAAAAAAchY/NveHJuhGTqU/s64/photo.jpg",
      "userId": "06756766942721289592"
     },
     "user_tz": -330
    },
    "id": "quj1pXC6xDR9",
    "outputId": "f6befbb1-1ca1-43d3-d632-470c51db78ca"
   },
   "outputs": [
    {
     "data": {
      "text/html": [
       "<div>\n",
       "<style scoped>\n",
       "    .dataframe tbody tr th:only-of-type {\n",
       "        vertical-align: middle;\n",
       "    }\n",
       "\n",
       "    .dataframe tbody tr th {\n",
       "        vertical-align: top;\n",
       "    }\n",
       "\n",
       "    .dataframe thead th {\n",
       "        text-align: right;\n",
       "    }\n",
       "</style>\n",
       "<table border=\"1\" class=\"dataframe\">\n",
       "  <thead>\n",
       "    <tr style=\"text-align: right;\">\n",
       "      <th></th>\n",
       "      <th>sepal_length</th>\n",
       "      <th>sepal_width</th>\n",
       "      <th>petal_length</th>\n",
       "      <th>petal_width</th>\n",
       "      <th>species</th>\n",
       "    </tr>\n",
       "  </thead>\n",
       "  <tbody>\n",
       "    <tr>\n",
       "      <th>0</th>\n",
       "      <td>5.1</td>\n",
       "      <td>3.5</td>\n",
       "      <td>1.4</td>\n",
       "      <td>0.2</td>\n",
       "      <td>Iris-setosa</td>\n",
       "    </tr>\n",
       "    <tr>\n",
       "      <th>1</th>\n",
       "      <td>4.9</td>\n",
       "      <td>3.0</td>\n",
       "      <td>1.4</td>\n",
       "      <td>0.2</td>\n",
       "      <td>Iris-setosa</td>\n",
       "    </tr>\n",
       "    <tr>\n",
       "      <th>2</th>\n",
       "      <td>4.7</td>\n",
       "      <td>3.2</td>\n",
       "      <td>1.3</td>\n",
       "      <td>0.2</td>\n",
       "      <td>Iris-setosa</td>\n",
       "    </tr>\n",
       "    <tr>\n",
       "      <th>3</th>\n",
       "      <td>4.6</td>\n",
       "      <td>3.1</td>\n",
       "      <td>1.5</td>\n",
       "      <td>0.2</td>\n",
       "      <td>Iris-setosa</td>\n",
       "    </tr>\n",
       "    <tr>\n",
       "      <th>4</th>\n",
       "      <td>5.0</td>\n",
       "      <td>3.6</td>\n",
       "      <td>1.4</td>\n",
       "      <td>0.2</td>\n",
       "      <td>Iris-setosa</td>\n",
       "    </tr>\n",
       "  </tbody>\n",
       "</table>\n",
       "</div>"
      ],
      "text/plain": [
       "   sepal_length  sepal_width  petal_length  petal_width      species\n",
       "0           5.1          3.5           1.4          0.2  Iris-setosa\n",
       "1           4.9          3.0           1.4          0.2  Iris-setosa\n",
       "2           4.7          3.2           1.3          0.2  Iris-setosa\n",
       "3           4.6          3.1           1.5          0.2  Iris-setosa\n",
       "4           5.0          3.6           1.4          0.2  Iris-setosa"
      ]
     },
     "execution_count": 9,
     "metadata": {
      "tags": []
     },
     "output_type": "execute_result"
    }
   ],
   "source": [
    "df.head()"
   ]
  },
  {
   "cell_type": "code",
   "execution_count": 10,
   "metadata": {
    "colab": {
     "base_uri": "https://localhost:8080/"
    },
    "executionInfo": {
     "elapsed": 1281,
     "status": "ok",
     "timestamp": 1621348693094,
     "user": {
      "displayName": "Ramesh Bhutka",
      "photoUrl": "https://lh3.googleusercontent.com/-jBSHGVJvh3M/AAAAAAAAAAI/AAAAAAAAchY/NveHJuhGTqU/s64/photo.jpg",
      "userId": "06756766942721289592"
     },
     "user_tz": -330
    },
    "id": "BMVopyH_zW0R",
    "outputId": "54726843-4602-4dcd-935b-0fb56d26cf33"
   },
   "outputs": [
    {
     "data": {
      "text/plain": [
       "(150, 5)"
      ]
     },
     "execution_count": 10,
     "metadata": {
      "tags": []
     },
     "output_type": "execute_result"
    }
   ],
   "source": [
    "df.shape"
   ]
  },
  {
   "cell_type": "code",
   "execution_count": 11,
   "metadata": {
    "colab": {
     "base_uri": "https://localhost:8080/"
    },
    "executionInfo": {
     "elapsed": 852,
     "status": "ok",
     "timestamp": 1621348694284,
     "user": {
      "displayName": "Ramesh Bhutka",
      "photoUrl": "https://lh3.googleusercontent.com/-jBSHGVJvh3M/AAAAAAAAAAI/AAAAAAAAchY/NveHJuhGTqU/s64/photo.jpg",
      "userId": "06756766942721289592"
     },
     "user_tz": -330
    },
    "id": "ZIUvYNdEzYwZ",
    "outputId": "f4aa6820-0d57-4ffa-d8b4-9d962d13b953"
   },
   "outputs": [
    {
     "data": {
      "text/plain": [
       "Iris-virginica     50\n",
       "Iris-setosa        50\n",
       "Iris-versicolor    50\n",
       "Name: species, dtype: int64"
      ]
     },
     "execution_count": 11,
     "metadata": {
      "tags": []
     },
     "output_type": "execute_result"
    }
   ],
   "source": [
    "df.species.value_counts()"
   ]
  },
  {
   "cell_type": "code",
   "execution_count": 12,
   "metadata": {
    "executionInfo": {
     "elapsed": 1009,
     "status": "ok",
     "timestamp": 1621348695846,
     "user": {
      "displayName": "Ramesh Bhutka",
      "photoUrl": "https://lh3.googleusercontent.com/-jBSHGVJvh3M/AAAAAAAAAAI/AAAAAAAAchY/NveHJuhGTqU/s64/photo.jpg",
      "userId": "06756766942721289592"
     },
     "user_tz": -330
    },
    "id": "Y_sGTYwNxQGg"
   },
   "outputs": [],
   "source": [
    "# encode class values as integers\n",
    "encoder = LabelEncoder()\n",
    "encoder.fit(Y)\n",
    "encoded_Y = encoder.transform(Y)\n",
    "# convert integers to dummy variables (i.e. one hot encoded)\n",
    "dummy_y = np_utils.to_categorical(encoded_Y)"
   ]
  },
  {
   "cell_type": "code",
   "execution_count": 13,
   "metadata": {
    "executionInfo": {
     "elapsed": 583,
     "status": "ok",
     "timestamp": 1621348696401,
     "user": {
      "displayName": "Ramesh Bhutka",
      "photoUrl": "https://lh3.googleusercontent.com/-jBSHGVJvh3M/AAAAAAAAAAI/AAAAAAAAchY/NveHJuhGTqU/s64/photo.jpg",
      "userId": "06756766942721289592"
     },
     "user_tz": -330
    },
    "id": "xgkCymwAxaGR"
   },
   "outputs": [],
   "source": [
    "# define baseline model\n",
    "def baseline_model():\n",
    "\t# create model\n",
    "\tmodel = Sequential()\n",
    "\tmodel.add(Dense(8, input_dim=4, activation='relu'))\n",
    "\tmodel.add(Dense(3, activation='softmax'))\n",
    "\t# Compile model\n",
    "\tmodel.compile(loss='categorical_crossentropy', optimizer='adam', metrics=['accuracy'])\n",
    "\treturn model"
   ]
  },
  {
   "cell_type": "code",
   "execution_count": 14,
   "metadata": {
    "executionInfo": {
     "elapsed": 759,
     "status": "ok",
     "timestamp": 1621348698034,
     "user": {
      "displayName": "Ramesh Bhutka",
      "photoUrl": "https://lh3.googleusercontent.com/-jBSHGVJvh3M/AAAAAAAAAAI/AAAAAAAAchY/NveHJuhGTqU/s64/photo.jpg",
      "userId": "06756766942721289592"
     },
     "user_tz": -330
    },
    "id": "Aa55ASozxgCe"
   },
   "outputs": [],
   "source": [
    "estimator = KerasClassifier(build_fn=baseline_model, epochs=200, batch_size=5, verbose=0)"
   ]
  },
  {
   "cell_type": "code",
   "execution_count": 17,
   "metadata": {
    "executionInfo": {
     "elapsed": 1064,
     "status": "ok",
     "timestamp": 1621348740186,
     "user": {
      "displayName": "Ramesh Bhutka",
      "photoUrl": "https://lh3.googleusercontent.com/-jBSHGVJvh3M/AAAAAAAAAAI/AAAAAAAAchY/NveHJuhGTqU/s64/photo.jpg",
      "userId": "06756766942721289592"
     },
     "user_tz": -330
    },
    "id": "94jhZBksxjvh"
   },
   "outputs": [],
   "source": [
    "kfold = KFold(n_splits=5, shuffle=True)"
   ]
  },
  {
   "cell_type": "code",
   "execution_count": 18,
   "metadata": {
    "colab": {
     "base_uri": "https://localhost:8080/"
    },
    "executionInfo": {
     "elapsed": 19986,
     "status": "ok",
     "timestamp": 1621348761024,
     "user": {
      "displayName": "Ramesh Bhutka",
      "photoUrl": "https://lh3.googleusercontent.com/-jBSHGVJvh3M/AAAAAAAAAAI/AAAAAAAAchY/NveHJuhGTqU/s64/photo.jpg",
      "userId": "06756766942721289592"
     },
     "user_tz": -330
    },
    "id": "7zdVKXOsxu8N",
    "outputId": "250401ad-4f29-4bdd-9e9d-f2755d0cd064"
   },
   "outputs": [
    {
     "name": "stdout",
     "output_type": "stream",
     "text": [
      "WARNING:tensorflow:5 out of the last 13 calls to <function Model.make_test_function.<locals>.test_function at 0x7feefcc85170> triggered tf.function retracing. Tracing is expensive and the excessive number of tracings could be due to (1) creating @tf.function repeatedly in a loop, (2) passing tensors with different shapes, (3) passing Python objects instead of tensors. For (1), please define your @tf.function outside of the loop. For (2), @tf.function has experimental_relax_shapes=True option that relaxes argument shapes that can avoid unnecessary retracing. For (3), please refer to https://www.tensorflow.org/guide/function#controlling_retracing and https://www.tensorflow.org/api_docs/python/tf/function for  more details.\n",
      "Baseline: 96.67% (2.11%)\n"
     ]
    }
   ],
   "source": [
    "results = cross_val_score(estimator, X, dummy_y, cv=kfold)\n",
    "print(\"Baseline: %.2f%% (%.2f%%)\" % (results.mean()*100, results.std()*100))"
   ]
  },
  {
   "cell_type": "code",
   "execution_count": 19,
   "metadata": {
    "colab": {
     "base_uri": "https://localhost:8080/",
     "height": 109
    },
    "executionInfo": {
     "elapsed": 7023,
     "status": "ok",
     "timestamp": 1621348770436,
     "user": {
      "displayName": "Ramesh Bhutka",
      "photoUrl": "https://lh3.googleusercontent.com/-jBSHGVJvh3M/AAAAAAAAAAI/AAAAAAAAchY/NveHJuhGTqU/s64/photo.jpg",
      "userId": "06756766942721289592"
     },
     "user_tz": -330
    },
    "id": "3FIS8lZE6qTr",
    "outputId": "41d3b6b0-4ab6-4037-a1e3-8c05aaf60c3e"
   },
   "outputs": [
    {
     "name": "stdout",
     "output_type": "stream",
     "text": [
      "[jovian] Detected Colab notebook...\u001b[0m\n",
      "[jovian] Uploading colab notebook to Jovian...\u001b[0m\n",
      "[jovian] Capturing environment..\u001b[0m\n",
      "[jovian] Committed successfully! https://jovian.ai/rameshbhutka11/practical-14b\u001b[0m\n"
     ]
    },
    {
     "data": {
      "application/vnd.google.colaboratory.intrinsic+json": {
       "type": "string"
      },
      "text/plain": [
       "'https://jovian.ai/rameshbhutka11/practical-14b'"
      ]
     },
     "execution_count": 19,
     "metadata": {
      "tags": []
     },
     "output_type": "execute_result"
    }
   ],
   "source": [
    "jovian.commit(project=\"practical-14b\")"
   ]
  },
  {
   "cell_type": "code",
   "execution_count": null,
   "metadata": {
    "id": "Yjp9Pehk3s2D"
   },
   "outputs": [],
   "source": []
  }
 ],
 "metadata": {
  "colab": {
   "collapsed_sections": [],
   "name": "practical-13.ipynb",
   "provenance": []
  },
  "language_info": {
   "codemirror_mode": {
    "name": "ipython",
    "version": 3
   },
   "file_extension": ".py",
   "mimetype": "text/x-python",
   "name": "python",
   "nbconvert_exporter": "python",
   "pygments_lexer": "ipython3",
   "version": "3.7.6"
  }
 },
 "nbformat": 4,
 "nbformat_minor": 0
}