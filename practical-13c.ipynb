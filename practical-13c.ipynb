{
 "cells": [
  {
   "cell_type": "code",
   "execution_count": 5,
   "metadata": {
    "colab": {
     "base_uri": "https://localhost:8080/"
    },
    "executionInfo": {
     "elapsed": 938,
     "status": "ok",
     "timestamp": 1621425808434,
     "user": {
      "displayName": "Ramesh Bhutka",
      "photoUrl": "https://lh3.googleusercontent.com/-jBSHGVJvh3M/AAAAAAAAAAI/AAAAAAAAchY/NveHJuhGTqU/s64/photo.jpg",
      "userId": "06756766942721289592"
     },
     "user_tz": -330
    },
    "id": "5bgKVngwgjsn",
    "outputId": "d0f45773-54c8-46bb-c302-3a1b3557cb7f"
   },
   "outputs": [
    {
     "name": "stdout",
     "output_type": "stream",
     "text": [
      "NAME:- RAMESH BHUTKA\n",
      "SAP ID:- 5300419003\n"
     ]
    }
   ],
   "source": [
    "print(\"NAME:- RAMESH BHUTKA\")\n",
    "print(\"SAP ID:- 5300419003\")"
   ]
  },
  {
   "cell_type": "code",
   "execution_count": 6,
   "metadata": {
    "colab": {
     "base_uri": "https://localhost:8080/"
    },
    "executionInfo": {
     "elapsed": 1106,
     "status": "ok",
     "timestamp": 1621425809714,
     "user": {
      "displayName": "Ramesh Bhutka",
      "photoUrl": "https://lh3.googleusercontent.com/-jBSHGVJvh3M/AAAAAAAAAAI/AAAAAAAAchY/NveHJuhGTqU/s64/photo.jpg",
      "userId": "06756766942721289592"
     },
     "user_tz": -330
    },
    "id": "tyD2m1AMgkgl",
    "outputId": "bb4b7fff-ab83-4e6e-c0d9-43b05289958a"
   },
   "outputs": [
    {
     "name": "stdout",
     "output_type": "stream",
     "text": [
      "2021-05-19 12:03:30.872610\n"
     ]
    }
   ],
   "source": [
    "import datetime\n",
    "print(datetime.datetime.now())"
   ]
  },
  {
   "cell_type": "markdown",
   "metadata": {
    "id": "lY_BwhdOgKjK"
   },
   "source": [
    "# practical-13c\n",
    "\n",
    "Using a deep feed forward network with two hidden layers for performing linear regression and predicting values. "
   ]
  },
  {
   "cell_type": "code",
   "execution_count": 2,
   "metadata": {
    "executionInfo": {
     "elapsed": 10256,
     "status": "ok",
     "timestamp": 1621425751023,
     "user": {
      "displayName": "Ramesh Bhutka",
      "photoUrl": "https://lh3.googleusercontent.com/-jBSHGVJvh3M/AAAAAAAAAAI/AAAAAAAAchY/NveHJuhGTqU/s64/photo.jpg",
      "userId": "06756766942721289592"
     },
     "user_tz": -330
    },
    "id": "qgPDty70gKjP"
   },
   "outputs": [],
   "source": [
    "!pip install jovian --upgrade --quiet"
   ]
  },
  {
   "cell_type": "code",
   "execution_count": 3,
   "metadata": {
    "executionInfo": {
     "elapsed": 10253,
     "status": "ok",
     "timestamp": 1621425751024,
     "user": {
      "displayName": "Ramesh Bhutka",
      "photoUrl": "https://lh3.googleusercontent.com/-jBSHGVJvh3M/AAAAAAAAAAI/AAAAAAAAchY/NveHJuhGTqU/s64/photo.jpg",
      "userId": "06756766942721289592"
     },
     "user_tz": -330
    },
    "id": "tmdQONlogKjT"
   },
   "outputs": [],
   "source": [
    "import jovian"
   ]
  },
  {
   "cell_type": "code",
   "execution_count": 4,
   "metadata": {
    "colab": {
     "base_uri": "https://localhost:8080/",
     "height": 146
    },
    "executionInfo": {
     "elapsed": 39380,
     "status": "ok",
     "timestamp": 1621425780156,
     "user": {
      "displayName": "Ramesh Bhutka",
      "photoUrl": "https://lh3.googleusercontent.com/-jBSHGVJvh3M/AAAAAAAAAAI/AAAAAAAAchY/NveHJuhGTqU/s64/photo.jpg",
      "userId": "06756766942721289592"
     },
     "user_tz": -330
    },
    "id": "BflMnG9sgKjV",
    "outputId": "eaa92d9f-d799-4ec7-e78e-90c957c8fcf3"
   },
   "outputs": [
    {
     "name": "stdout",
     "output_type": "stream",
     "text": [
      "[jovian] Detected Colab notebook...\u001b[0m\n",
      "[jovian] Please enter your API key ( from https://jovian.ai/ ):\u001b[0m\n",
      "API KEY: ··········\n",
      "[jovian] Uploading colab notebook to Jovian...\u001b[0m\n",
      "[jovian] Capturing environment..\u001b[0m\n",
      "[jovian] Committed successfully! https://jovian.ai/rameshbhutka11/practical-13c\u001b[0m\n"
     ]
    },
    {
     "data": {
      "application/vnd.google.colaboratory.intrinsic+json": {
       "type": "string"
      },
      "text/plain": [
       "'https://jovian.ai/rameshbhutka11/practical-13c'"
      ]
     },
     "execution_count": 4,
     "metadata": {
      "tags": []
     },
     "output_type": "execute_result"
    }
   ],
   "source": [
    "# Execute this to save new versions of the notebook\n",
    "jovian.commit(project=\"practical-13c\")"
   ]
  },
  {
   "cell_type": "code",
   "execution_count": 7,
   "metadata": {
    "executionInfo": {
     "elapsed": 3407,
     "status": "ok",
     "timestamp": 1621425824170,
     "user": {
      "displayName": "Ramesh Bhutka",
      "photoUrl": "https://lh3.googleusercontent.com/-jBSHGVJvh3M/AAAAAAAAAAI/AAAAAAAAchY/NveHJuhGTqU/s64/photo.jpg",
      "userId": "06756766942721289592"
     },
     "user_tz": -330
    },
    "id": "a3tk469VgKjY"
   },
   "outputs": [],
   "source": [
    "import pandas\n",
    "from keras.models import Sequential\n",
    "from keras.layers import Dense\n",
    "from keras.wrappers.scikit_learn import KerasRegressor\n",
    "from sklearn.model_selection import cross_val_score\n",
    "from sklearn.model_selection import KFold\n",
    "from sklearn.preprocessing import StandardScaler\n",
    "from sklearn.pipeline import Pipeline"
   ]
  },
  {
   "cell_type": "code",
   "execution_count": 8,
   "metadata": {
    "executionInfo": {
     "elapsed": 944,
     "status": "ok",
     "timestamp": 1621425827357,
     "user": {
      "displayName": "Ramesh Bhutka",
      "photoUrl": "https://lh3.googleusercontent.com/-jBSHGVJvh3M/AAAAAAAAAAI/AAAAAAAAchY/NveHJuhGTqU/s64/photo.jpg",
      "userId": "06756766942721289592"
     },
     "user_tz": -330
    },
    "id": "ySad0zqIgpQJ"
   },
   "outputs": [],
   "source": [
    "# load dataset\n",
    "path = \"https://raw.githubusercontent.com/jbrownlee/Datasets/master/housing.data\"\n",
    "dataframe = pandas.read_csv(path, delim_whitespace=True, header=None)\n",
    "dataset = dataframe.values\n",
    "# split into input (X) and output (Y) variables\n",
    "X = dataset[:,0:13]\n",
    "Y = dataset[:,13]"
   ]
  },
  {
   "cell_type": "code",
   "execution_count": 9,
   "metadata": {
    "colab": {
     "base_uri": "https://localhost:8080/",
     "height": 206
    },
    "executionInfo": {
     "elapsed": 859,
     "status": "ok",
     "timestamp": 1621425832133,
     "user": {
      "displayName": "Ramesh Bhutka",
      "photoUrl": "https://lh3.googleusercontent.com/-jBSHGVJvh3M/AAAAAAAAAAI/AAAAAAAAchY/NveHJuhGTqU/s64/photo.jpg",
      "userId": "06756766942721289592"
     },
     "user_tz": -330
    },
    "id": "pAIgi3ujgqob",
    "outputId": "6242c061-55eb-424d-9ece-ec3139049bfe"
   },
   "outputs": [
    {
     "data": {
      "text/html": [
       "<div>\n",
       "<style scoped>\n",
       "    .dataframe tbody tr th:only-of-type {\n",
       "        vertical-align: middle;\n",
       "    }\n",
       "\n",
       "    .dataframe tbody tr th {\n",
       "        vertical-align: top;\n",
       "    }\n",
       "\n",
       "    .dataframe thead th {\n",
       "        text-align: right;\n",
       "    }\n",
       "</style>\n",
       "<table border=\"1\" class=\"dataframe\">\n",
       "  <thead>\n",
       "    <tr style=\"text-align: right;\">\n",
       "      <th></th>\n",
       "      <th>0</th>\n",
       "      <th>1</th>\n",
       "      <th>2</th>\n",
       "      <th>3</th>\n",
       "      <th>4</th>\n",
       "      <th>5</th>\n",
       "      <th>6</th>\n",
       "      <th>7</th>\n",
       "      <th>8</th>\n",
       "      <th>9</th>\n",
       "      <th>10</th>\n",
       "      <th>11</th>\n",
       "      <th>12</th>\n",
       "      <th>13</th>\n",
       "    </tr>\n",
       "  </thead>\n",
       "  <tbody>\n",
       "    <tr>\n",
       "      <th>0</th>\n",
       "      <td>0.00632</td>\n",
       "      <td>18.0</td>\n",
       "      <td>2.31</td>\n",
       "      <td>0</td>\n",
       "      <td>0.538</td>\n",
       "      <td>6.575</td>\n",
       "      <td>65.2</td>\n",
       "      <td>4.0900</td>\n",
       "      <td>1</td>\n",
       "      <td>296.0</td>\n",
       "      <td>15.3</td>\n",
       "      <td>396.90</td>\n",
       "      <td>4.98</td>\n",
       "      <td>24.0</td>\n",
       "    </tr>\n",
       "    <tr>\n",
       "      <th>1</th>\n",
       "      <td>0.02731</td>\n",
       "      <td>0.0</td>\n",
       "      <td>7.07</td>\n",
       "      <td>0</td>\n",
       "      <td>0.469</td>\n",
       "      <td>6.421</td>\n",
       "      <td>78.9</td>\n",
       "      <td>4.9671</td>\n",
       "      <td>2</td>\n",
       "      <td>242.0</td>\n",
       "      <td>17.8</td>\n",
       "      <td>396.90</td>\n",
       "      <td>9.14</td>\n",
       "      <td>21.6</td>\n",
       "    </tr>\n",
       "    <tr>\n",
       "      <th>2</th>\n",
       "      <td>0.02729</td>\n",
       "      <td>0.0</td>\n",
       "      <td>7.07</td>\n",
       "      <td>0</td>\n",
       "      <td>0.469</td>\n",
       "      <td>7.185</td>\n",
       "      <td>61.1</td>\n",
       "      <td>4.9671</td>\n",
       "      <td>2</td>\n",
       "      <td>242.0</td>\n",
       "      <td>17.8</td>\n",
       "      <td>392.83</td>\n",
       "      <td>4.03</td>\n",
       "      <td>34.7</td>\n",
       "    </tr>\n",
       "    <tr>\n",
       "      <th>3</th>\n",
       "      <td>0.03237</td>\n",
       "      <td>0.0</td>\n",
       "      <td>2.18</td>\n",
       "      <td>0</td>\n",
       "      <td>0.458</td>\n",
       "      <td>6.998</td>\n",
       "      <td>45.8</td>\n",
       "      <td>6.0622</td>\n",
       "      <td>3</td>\n",
       "      <td>222.0</td>\n",
       "      <td>18.7</td>\n",
       "      <td>394.63</td>\n",
       "      <td>2.94</td>\n",
       "      <td>33.4</td>\n",
       "    </tr>\n",
       "    <tr>\n",
       "      <th>4</th>\n",
       "      <td>0.06905</td>\n",
       "      <td>0.0</td>\n",
       "      <td>2.18</td>\n",
       "      <td>0</td>\n",
       "      <td>0.458</td>\n",
       "      <td>7.147</td>\n",
       "      <td>54.2</td>\n",
       "      <td>6.0622</td>\n",
       "      <td>3</td>\n",
       "      <td>222.0</td>\n",
       "      <td>18.7</td>\n",
       "      <td>396.90</td>\n",
       "      <td>5.33</td>\n",
       "      <td>36.2</td>\n",
       "    </tr>\n",
       "  </tbody>\n",
       "</table>\n",
       "</div>"
      ],
      "text/plain": [
       "        0     1     2   3      4      5   ...  8      9     10      11    12    13\n",
       "0  0.00632  18.0  2.31   0  0.538  6.575  ...   1  296.0  15.3  396.90  4.98  24.0\n",
       "1  0.02731   0.0  7.07   0  0.469  6.421  ...   2  242.0  17.8  396.90  9.14  21.6\n",
       "2  0.02729   0.0  7.07   0  0.469  7.185  ...   2  242.0  17.8  392.83  4.03  34.7\n",
       "3  0.03237   0.0  2.18   0  0.458  6.998  ...   3  222.0  18.7  394.63  2.94  33.4\n",
       "4  0.06905   0.0  2.18   0  0.458  7.147  ...   3  222.0  18.7  396.90  5.33  36.2\n",
       "\n",
       "[5 rows x 14 columns]"
      ]
     },
     "execution_count": 9,
     "metadata": {
      "tags": []
     },
     "output_type": "execute_result"
    }
   ],
   "source": [
    "dataframe.head()"
   ]
  },
  {
   "cell_type": "code",
   "execution_count": 10,
   "metadata": {
    "colab": {
     "base_uri": "https://localhost:8080/"
    },
    "executionInfo": {
     "elapsed": 1337,
     "status": "ok",
     "timestamp": 1621425839130,
     "user": {
      "displayName": "Ramesh Bhutka",
      "photoUrl": "https://lh3.googleusercontent.com/-jBSHGVJvh3M/AAAAAAAAAAI/AAAAAAAAchY/NveHJuhGTqU/s64/photo.jpg",
      "userId": "06756766942721289592"
     },
     "user_tz": -330
    },
    "id": "WqkuJTWqgr0B",
    "outputId": "78b86194-7b1b-4ecc-e6e5-e8bfca60657c"
   },
   "outputs": [
    {
     "name": "stdout",
     "output_type": "stream",
     "text": [
      "(354, 13)\n",
      "(152, 13)\n"
     ]
    }
   ],
   "source": [
    "from sklearn.model_selection import train_test_split\n",
    "X_train, X_test, y_train, y_test = train_test_split(X, Y, test_size=0.30, random_state=40)\n",
    "print(X_train.shape); print(X_test.shape)"
   ]
  },
  {
   "cell_type": "markdown",
   "metadata": {
    "id": "7CNRHJusgujp"
   },
   "source": [
    "Topology\n",
    "\n",
    "13 inputs -> [13 -> 6] -> 1\n"
   ]
  },
  {
   "cell_type": "code",
   "execution_count": 11,
   "metadata": {
    "executionInfo": {
     "elapsed": 885,
     "status": "ok",
     "timestamp": 1621425857376,
     "user": {
      "displayName": "Ramesh Bhutka",
      "photoUrl": "https://lh3.googleusercontent.com/-jBSHGVJvh3M/AAAAAAAAAAI/AAAAAAAAchY/NveHJuhGTqU/s64/photo.jpg",
      "userId": "06756766942721289592"
     },
     "user_tz": -330
    },
    "id": "Z2ABjgGVgtZ7"
   },
   "outputs": [],
   "source": [
    "# create model\n",
    "model = Sequential()\n",
    "model.add(Dense(13, input_dim=13, kernel_initializer='normal', activation='relu'))\n",
    "model.add(Dense(6, kernel_initializer='normal', activation='relu'))\n",
    "model.add(Dense(1, kernel_initializer='normal'))"
   ]
  },
  {
   "cell_type": "code",
   "execution_count": 12,
   "metadata": {
    "colab": {
     "base_uri": "https://localhost:8080/"
    },
    "executionInfo": {
     "elapsed": 874,
     "status": "ok",
     "timestamp": 1621425862447,
     "user": {
      "displayName": "Ramesh Bhutka",
      "photoUrl": "https://lh3.googleusercontent.com/-jBSHGVJvh3M/AAAAAAAAAAI/AAAAAAAAchY/NveHJuhGTqU/s64/photo.jpg",
      "userId": "06756766942721289592"
     },
     "user_tz": -330
    },
    "id": "CAJnvgV5gx-Z",
    "outputId": "d5a0527d-8069-4ae6-dd9b-cce17daf1910"
   },
   "outputs": [
    {
     "name": "stdout",
     "output_type": "stream",
     "text": [
      "Model: \"sequential\"\n",
      "_________________________________________________________________\n",
      "Layer (type)                 Output Shape              Param #   \n",
      "=================================================================\n",
      "dense (Dense)                (None, 13)                182       \n",
      "_________________________________________________________________\n",
      "dense_1 (Dense)              (None, 6)                 84        \n",
      "_________________________________________________________________\n",
      "dense_2 (Dense)              (None, 1)                 7         \n",
      "=================================================================\n",
      "Total params: 273\n",
      "Trainable params: 273\n",
      "Non-trainable params: 0\n",
      "_________________________________________________________________\n"
     ]
    }
   ],
   "source": [
    "model.summary()"
   ]
  },
  {
   "cell_type": "code",
   "execution_count": 13,
   "metadata": {
    "executionInfo": {
     "elapsed": 1090,
     "status": "ok",
     "timestamp": 1621425869770,
     "user": {
      "displayName": "Ramesh Bhutka",
      "photoUrl": "https://lh3.googleusercontent.com/-jBSHGVJvh3M/AAAAAAAAAAI/AAAAAAAAchY/NveHJuhGTqU/s64/photo.jpg",
      "userId": "06756766942721289592"
     },
     "user_tz": -330
    },
    "id": "zt4bBx-igzOG"
   },
   "outputs": [],
   "source": [
    "# compile the keras model\n",
    "model.compile(\n",
    "    loss='mean_squared_error', \n",
    "    optimizer='adam', \n",
    "    metrics=[\"mean_squared_error\"])"
   ]
  },
  {
   "cell_type": "code",
   "execution_count": 16,
   "metadata": {
    "colab": {
     "base_uri": "https://localhost:8080/"
    },
    "executionInfo": {
     "elapsed": 8965,
     "status": "ok",
     "timestamp": 1621425904158,
     "user": {
      "displayName": "Ramesh Bhutka",
      "photoUrl": "https://lh3.googleusercontent.com/-jBSHGVJvh3M/AAAAAAAAAAI/AAAAAAAAchY/NveHJuhGTqU/s64/photo.jpg",
      "userId": "06756766942721289592"
     },
     "user_tz": -330
    },
    "id": "H3fSbGUPg085",
    "outputId": "9c669ca8-9350-4a97-8e07-0b0a0fdf09e0"
   },
   "outputs": [
    {
     "name": "stdout",
     "output_type": "stream",
     "text": [
      "Epoch 1/50\n",
      "71/71 [==============================] - 0s 4ms/step - loss: 24.7032 - mean_squared_error: 24.7032 - val_loss: 38.6851 - val_mean_squared_error: 38.6851\n",
      "Epoch 2/50\n",
      "71/71 [==============================] - 0s 2ms/step - loss: 23.4515 - mean_squared_error: 23.4515 - val_loss: 42.1831 - val_mean_squared_error: 42.1831\n",
      "Epoch 3/50\n",
      "71/71 [==============================] - 0s 2ms/step - loss: 24.9451 - mean_squared_error: 24.9451 - val_loss: 42.2520 - val_mean_squared_error: 42.2520\n",
      "Epoch 4/50\n",
      "71/71 [==============================] - 0s 2ms/step - loss: 22.6419 - mean_squared_error: 22.6419 - val_loss: 38.4519 - val_mean_squared_error: 38.4519\n",
      "Epoch 5/50\n",
      "71/71 [==============================] - 0s 2ms/step - loss: 22.1647 - mean_squared_error: 22.1647 - val_loss: 37.4455 - val_mean_squared_error: 37.4455\n",
      "Epoch 6/50\n",
      "71/71 [==============================] - 0s 2ms/step - loss: 22.4857 - mean_squared_error: 22.4857 - val_loss: 34.2796 - val_mean_squared_error: 34.2796\n",
      "Epoch 7/50\n",
      "71/71 [==============================] - 0s 2ms/step - loss: 22.5373 - mean_squared_error: 22.5373 - val_loss: 40.3194 - val_mean_squared_error: 40.3194\n",
      "Epoch 8/50\n",
      "71/71 [==============================] - 0s 2ms/step - loss: 21.7389 - mean_squared_error: 21.7389 - val_loss: 37.8360 - val_mean_squared_error: 37.8360\n",
      "Epoch 9/50\n",
      "71/71 [==============================] - 0s 2ms/step - loss: 21.5625 - mean_squared_error: 21.5625 - val_loss: 41.2832 - val_mean_squared_error: 41.2832\n",
      "Epoch 10/50\n",
      "71/71 [==============================] - 0s 2ms/step - loss: 22.4329 - mean_squared_error: 22.4329 - val_loss: 34.9526 - val_mean_squared_error: 34.9526\n",
      "Epoch 11/50\n",
      "71/71 [==============================] - 0s 2ms/step - loss: 21.6625 - mean_squared_error: 21.6625 - val_loss: 33.8339 - val_mean_squared_error: 33.8339\n",
      "Epoch 12/50\n",
      "71/71 [==============================] - 0s 2ms/step - loss: 21.4526 - mean_squared_error: 21.4526 - val_loss: 37.2661 - val_mean_squared_error: 37.2661\n",
      "Epoch 13/50\n",
      "71/71 [==============================] - 0s 2ms/step - loss: 21.3019 - mean_squared_error: 21.3019 - val_loss: 32.0126 - val_mean_squared_error: 32.0126\n",
      "Epoch 14/50\n",
      "71/71 [==============================] - 0s 2ms/step - loss: 21.0608 - mean_squared_error: 21.0608 - val_loss: 34.9971 - val_mean_squared_error: 34.9971\n",
      "Epoch 15/50\n",
      "71/71 [==============================] - 0s 2ms/step - loss: 20.3442 - mean_squared_error: 20.3442 - val_loss: 33.4675 - val_mean_squared_error: 33.4675\n",
      "Epoch 16/50\n",
      "71/71 [==============================] - 0s 2ms/step - loss: 20.3836 - mean_squared_error: 20.3836 - val_loss: 34.0124 - val_mean_squared_error: 34.0124\n",
      "Epoch 17/50\n",
      "71/71 [==============================] - 0s 2ms/step - loss: 21.3534 - mean_squared_error: 21.3534 - val_loss: 33.7338 - val_mean_squared_error: 33.7338\n",
      "Epoch 18/50\n",
      "71/71 [==============================] - 0s 2ms/step - loss: 20.7153 - mean_squared_error: 20.7153 - val_loss: 29.9306 - val_mean_squared_error: 29.9306\n",
      "Epoch 19/50\n",
      "71/71 [==============================] - 0s 2ms/step - loss: 19.4803 - mean_squared_error: 19.4803 - val_loss: 39.0470 - val_mean_squared_error: 39.0470\n",
      "Epoch 20/50\n",
      "71/71 [==============================] - 0s 2ms/step - loss: 20.0860 - mean_squared_error: 20.0860 - val_loss: 38.1979 - val_mean_squared_error: 38.1979\n",
      "Epoch 21/50\n",
      "71/71 [==============================] - 0s 2ms/step - loss: 19.8219 - mean_squared_error: 19.8219 - val_loss: 30.1122 - val_mean_squared_error: 30.1122\n",
      "Epoch 22/50\n",
      "71/71 [==============================] - 0s 2ms/step - loss: 20.2914 - mean_squared_error: 20.2914 - val_loss: 29.8840 - val_mean_squared_error: 29.8840\n",
      "Epoch 23/50\n",
      "71/71 [==============================] - 0s 2ms/step - loss: 20.3068 - mean_squared_error: 20.3068 - val_loss: 34.7596 - val_mean_squared_error: 34.7596\n",
      "Epoch 24/50\n",
      "71/71 [==============================] - 0s 2ms/step - loss: 19.4827 - mean_squared_error: 19.4827 - val_loss: 34.4991 - val_mean_squared_error: 34.4991\n",
      "Epoch 25/50\n",
      "71/71 [==============================] - 0s 2ms/step - loss: 19.0701 - mean_squared_error: 19.0701 - val_loss: 33.8946 - val_mean_squared_error: 33.8946\n",
      "Epoch 26/50\n",
      "71/71 [==============================] - 0s 2ms/step - loss: 19.1124 - mean_squared_error: 19.1124 - val_loss: 32.1358 - val_mean_squared_error: 32.1358\n",
      "Epoch 27/50\n",
      "71/71 [==============================] - 0s 2ms/step - loss: 19.6530 - mean_squared_error: 19.6530 - val_loss: 38.6464 - val_mean_squared_error: 38.6464\n",
      "Epoch 28/50\n",
      "71/71 [==============================] - 0s 2ms/step - loss: 20.6497 - mean_squared_error: 20.6497 - val_loss: 34.0678 - val_mean_squared_error: 34.0678\n",
      "Epoch 29/50\n",
      "71/71 [==============================] - 0s 2ms/step - loss: 18.4508 - mean_squared_error: 18.4508 - val_loss: 28.8358 - val_mean_squared_error: 28.8358\n",
      "Epoch 30/50\n",
      "71/71 [==============================] - 0s 2ms/step - loss: 20.8143 - mean_squared_error: 20.8143 - val_loss: 29.1297 - val_mean_squared_error: 29.1297\n",
      "Epoch 31/50\n",
      "71/71 [==============================] - 0s 2ms/step - loss: 19.9673 - mean_squared_error: 19.9673 - val_loss: 33.5452 - val_mean_squared_error: 33.5452\n",
      "Epoch 32/50\n",
      "71/71 [==============================] - 0s 2ms/step - loss: 19.0416 - mean_squared_error: 19.0416 - val_loss: 26.0799 - val_mean_squared_error: 26.0799\n",
      "Epoch 33/50\n",
      "71/71 [==============================] - 0s 2ms/step - loss: 18.8176 - mean_squared_error: 18.8176 - val_loss: 31.0958 - val_mean_squared_error: 31.0958\n",
      "Epoch 34/50\n",
      "71/71 [==============================] - 0s 2ms/step - loss: 18.2285 - mean_squared_error: 18.2285 - val_loss: 35.2205 - val_mean_squared_error: 35.2205\n",
      "Epoch 35/50\n",
      "71/71 [==============================] - 0s 2ms/step - loss: 18.3516 - mean_squared_error: 18.3516 - val_loss: 27.3003 - val_mean_squared_error: 27.3003\n",
      "Epoch 36/50\n",
      "71/71 [==============================] - 0s 2ms/step - loss: 17.9008 - mean_squared_error: 17.9008 - val_loss: 27.5126 - val_mean_squared_error: 27.5126\n",
      "Epoch 37/50\n",
      "71/71 [==============================] - 0s 2ms/step - loss: 17.9216 - mean_squared_error: 17.9216 - val_loss: 28.1258 - val_mean_squared_error: 28.1258\n",
      "Epoch 38/50\n",
      "71/71 [==============================] - 0s 2ms/step - loss: 17.5672 - mean_squared_error: 17.5672 - val_loss: 27.2883 - val_mean_squared_error: 27.2883\n",
      "Epoch 39/50\n",
      "71/71 [==============================] - 0s 2ms/step - loss: 16.9399 - mean_squared_error: 16.9399 - val_loss: 29.6601 - val_mean_squared_error: 29.6601\n",
      "Epoch 40/50\n",
      "71/71 [==============================] - 0s 2ms/step - loss: 16.8185 - mean_squared_error: 16.8185 - val_loss: 24.5563 - val_mean_squared_error: 24.5563\n",
      "Epoch 41/50\n",
      "71/71 [==============================] - 0s 2ms/step - loss: 17.4119 - mean_squared_error: 17.4119 - val_loss: 32.3373 - val_mean_squared_error: 32.3373\n",
      "Epoch 42/50\n",
      "71/71 [==============================] - 0s 2ms/step - loss: 18.3798 - mean_squared_error: 18.3798 - val_loss: 33.6757 - val_mean_squared_error: 33.6757\n",
      "Epoch 43/50\n",
      "71/71 [==============================] - 0s 2ms/step - loss: 17.2350 - mean_squared_error: 17.2350 - val_loss: 31.0391 - val_mean_squared_error: 31.0391\n",
      "Epoch 44/50\n",
      "71/71 [==============================] - 0s 2ms/step - loss: 17.3250 - mean_squared_error: 17.3250 - val_loss: 24.3162 - val_mean_squared_error: 24.3162\n",
      "Epoch 45/50\n",
      "71/71 [==============================] - 0s 2ms/step - loss: 17.3055 - mean_squared_error: 17.3055 - val_loss: 24.5417 - val_mean_squared_error: 24.5417\n",
      "Epoch 46/50\n",
      "71/71 [==============================] - 0s 2ms/step - loss: 17.9710 - mean_squared_error: 17.9710 - val_loss: 30.4629 - val_mean_squared_error: 30.4629\n",
      "Epoch 47/50\n",
      "71/71 [==============================] - 0s 2ms/step - loss: 16.7658 - mean_squared_error: 16.7658 - val_loss: 24.0623 - val_mean_squared_error: 24.0623\n",
      "Epoch 48/50\n",
      "71/71 [==============================] - 0s 2ms/step - loss: 16.6052 - mean_squared_error: 16.6052 - val_loss: 26.9981 - val_mean_squared_error: 26.9981\n",
      "Epoch 49/50\n",
      "71/71 [==============================] - 0s 2ms/step - loss: 17.7683 - mean_squared_error: 17.7683 - val_loss: 34.7786 - val_mean_squared_error: 34.7786\n",
      "Epoch 50/50\n",
      "71/71 [==============================] - 0s 2ms/step - loss: 16.6717 - mean_squared_error: 16.6717 - val_loss: 28.0673 - val_mean_squared_error: 28.0673\n"
     ]
    }
   ],
   "source": [
    "# training the model\n",
    "import tensorflow as tf\n",
    "tf.random.set_seed(18)\n",
    "history = model.fit(\n",
    "        X_train, y_train,\n",
    "        epochs = 50,\n",
    "        batch_size=5,\n",
    "        validation_data = (X_test, y_test)\n",
    "        )"
   ]
  },
  {
   "cell_type": "code",
   "execution_count": 17,
   "metadata": {
    "colab": {
     "base_uri": "https://localhost:8080/"
    },
    "executionInfo": {
     "elapsed": 8526,
     "status": "ok",
     "timestamp": 1621425904160,
     "user": {
      "displayName": "Ramesh Bhutka",
      "photoUrl": "https://lh3.googleusercontent.com/-jBSHGVJvh3M/AAAAAAAAAAI/AAAAAAAAchY/NveHJuhGTqU/s64/photo.jpg",
      "userId": "06756766942721289592"
     },
     "user_tz": -330
    },
    "id": "qQdeTasqg20b",
    "outputId": "967903b5-6628-4499-e38e-cfefb5c07219"
   },
   "outputs": [
    {
     "name": "stdout",
     "output_type": "stream",
     "text": [
      "3.978416214905323\n",
      "5.297858758112219\n"
     ]
    }
   ],
   "source": [
    "import numpy as np\n",
    "from sklearn.metrics import mean_squared_error\n",
    "pred_train= model.predict(X_train)\n",
    "print(np.sqrt(mean_squared_error(y_train,pred_train)))\n",
    "\n",
    "pred= model.predict(X_test)\n",
    "print(np.sqrt(mean_squared_error(y_test,pred))) "
   ]
  },
  {
   "cell_type": "code",
   "execution_count": null,
   "metadata": {
    "colab": {
     "base_uri": "https://localhost:8080/"
    },
    "id": "ulk0r_L1g5_H",
    "outputId": "5fa2545e-6830-4251-934d-d3a6d281c953"
   },
   "outputs": [
    {
     "name": "stdout",
     "output_type": "stream",
     "text": [
      "[jovian] Detected Colab notebook...\u001b[0m\n",
      "[jovian] Uploading colab notebook to Jovian...\u001b[0m\n"
     ]
    }
   ],
   "source": [
    "jovian.commit(project=\"practical-13c\")\n"
   ]
  },
  {
   "cell_type": "code",
   "execution_count": null,
   "metadata": {
    "id": "kc6SXqhvhDFI"
   },
   "outputs": [],
   "source": []
  }
 ],
 "metadata": {
  "colab": {
   "name": "practical-13c.ipynb",
   "provenance": []
  },
  "language_info": {
   "codemirror_mode": {
    "name": "ipython",
    "version": 3
   },
   "file_extension": ".py",
   "mimetype": "text/x-python",
   "name": "python",
   "nbconvert_exporter": "python",
   "pygments_lexer": "ipython3",
   "version": "3.7.6"
  }
 },
 "nbformat": 4,
 "nbformat_minor": 0
}