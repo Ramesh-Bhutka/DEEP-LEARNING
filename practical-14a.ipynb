{
 "cells": [
  {
   "cell_type": "code",
   "execution_count": 59,
   "metadata": {
    "colab": {
     "base_uri": "https://localhost:8080/"
    },
    "executionInfo": {
     "elapsed": 971,
     "status": "ok",
     "timestamp": 1621400459553,
     "user": {
      "displayName": "Ramesh Bhutka",
      "photoUrl": "https://lh3.googleusercontent.com/-jBSHGVJvh3M/AAAAAAAAAAI/AAAAAAAAchY/NveHJuhGTqU/s64/photo.jpg",
      "userId": "06756766942721289592"
     },
     "user_tz": -330
    },
    "id": "K_lipheT_1LP",
    "outputId": "f9482e97-6d7d-4c65-ea89-3ab9fdf3d411"
   },
   "outputs": [
    {
     "name": "stdout",
     "output_type": "stream",
     "text": [
      "NAME:- RAMESH BHUTKA\n",
      "SAP ID:- 5300419003\n"
     ]
    }
   ],
   "source": [
    "print(\"NAME:- RAMESH BHUTKA\")\n",
    "print(\"SAP ID:- 5300419003\")"
   ]
  },
  {
   "cell_type": "code",
   "execution_count": 60,
   "metadata": {
    "colab": {
     "base_uri": "https://localhost:8080/"
    },
    "executionInfo": {
     "elapsed": 897,
     "status": "ok",
     "timestamp": 1621400464315,
     "user": {
      "displayName": "Ramesh Bhutka",
      "photoUrl": "https://lh3.googleusercontent.com/-jBSHGVJvh3M/AAAAAAAAAAI/AAAAAAAAchY/NveHJuhGTqU/s64/photo.jpg",
      "userId": "06756766942721289592"
     },
     "user_tz": -330
    },
    "id": "SoDv5pGL_5BA",
    "outputId": "5474ffc8-7051-44d7-9946-6ca157f43724"
   },
   "outputs": [
    {
     "name": "stdout",
     "output_type": "stream",
     "text": [
      "2021-05-19 05:01:05.499353\n"
     ]
    }
   ],
   "source": [
    "import datetime\n",
    "print(datetime.datetime.now())"
   ]
  },
  {
   "cell_type": "markdown",
   "metadata": {
    "id": "_VUfurd987R6"
   },
   "source": [
    "# practical-14a\n",
    "\n",
    "Use the \"Run\" button to execute the code."
   ]
  },
  {
   "cell_type": "code",
   "execution_count": 2,
   "metadata": {
    "executionInfo": {
     "elapsed": 12975,
     "status": "ok",
     "timestamp": 1621397838617,
     "user": {
      "displayName": "Ramesh Bhutka",
      "photoUrl": "https://lh3.googleusercontent.com/-jBSHGVJvh3M/AAAAAAAAAAI/AAAAAAAAchY/NveHJuhGTqU/s64/photo.jpg",
      "userId": "06756766942721289592"
     },
     "user_tz": -330
    },
    "id": "Na78_UXy87R8"
   },
   "outputs": [],
   "source": [
    "!pip install jovian --upgrade --quiet"
   ]
  },
  {
   "cell_type": "code",
   "execution_count": 3,
   "metadata": {
    "executionInfo": {
     "elapsed": 12971,
     "status": "ok",
     "timestamp": 1621397838619,
     "user": {
      "displayName": "Ramesh Bhutka",
      "photoUrl": "https://lh3.googleusercontent.com/-jBSHGVJvh3M/AAAAAAAAAAI/AAAAAAAAchY/NveHJuhGTqU/s64/photo.jpg",
      "userId": "06756766942721289592"
     },
     "user_tz": -330
    },
    "id": "5y_e1K3A87R9"
   },
   "outputs": [],
   "source": [
    "import jovian"
   ]
  },
  {
   "cell_type": "code",
   "execution_count": 4,
   "metadata": {
    "colab": {
     "base_uri": "https://localhost:8080/",
     "height": 146
    },
    "executionInfo": {
     "elapsed": 18182,
     "status": "ok",
     "timestamp": 1621397843844,
     "user": {
      "displayName": "Ramesh Bhutka",
      "photoUrl": "https://lh3.googleusercontent.com/-jBSHGVJvh3M/AAAAAAAAAAI/AAAAAAAAchY/NveHJuhGTqU/s64/photo.jpg",
      "userId": "06756766942721289592"
     },
     "user_tz": -330
    },
    "id": "HihAhXrL87R-",
    "outputId": "f434e488-dae4-4c0b-a7de-e35134c253ce"
   },
   "outputs": [
    {
     "name": "stdout",
     "output_type": "stream",
     "text": [
      "[jovian] Detected Colab notebook...\u001b[0m\n",
      "[jovian] Please enter your API key ( from https://jovian.ai/ ):\u001b[0m\n",
      "API KEY: ··········\n",
      "[jovian] Uploading colab notebook to Jovian...\u001b[0m\n",
      "[jovian] Capturing environment..\u001b[0m\n",
      "[jovian] Committed successfully! https://jovian.ai/rameshbhutka11/practical-14a\u001b[0m\n"
     ]
    },
    {
     "data": {
      "application/vnd.google.colaboratory.intrinsic+json": {
       "type": "string"
      },
      "text/plain": [
       "'https://jovian.ai/rameshbhutka11/practical-14a'"
      ]
     },
     "execution_count": 4,
     "metadata": {
      "tags": []
     },
     "output_type": "execute_result"
    }
   ],
   "source": [
    "# Execute this to save new versions of the notebook\n",
    "jovian.commit(project=\"practical-14a\")"
   ]
  },
  {
   "cell_type": "code",
   "execution_count": 5,
   "metadata": {
    "executionInfo": {
     "elapsed": 3667,
     "status": "ok",
     "timestamp": 1621398312581,
     "user": {
      "displayName": "Ramesh Bhutka",
      "photoUrl": "https://lh3.googleusercontent.com/-jBSHGVJvh3M/AAAAAAAAAAI/AAAAAAAAchY/NveHJuhGTqU/s64/photo.jpg",
      "userId": "06756766942721289592"
     },
     "user_tz": -330
    },
    "id": "3U4AqGFJ87SA"
   },
   "outputs": [],
   "source": [
    "import pandas\n",
    "from keras.models import Sequential\n",
    "from keras.layers import Dense\n",
    "from keras.wrappers.scikit_learn import KerasRegressor\n",
    "from sklearn.model_selection import cross_val_score\n",
    "from sklearn.model_selection import KFold\n",
    "from sklearn.preprocessing import StandardScaler\n",
    "from sklearn.pipeline import Pipeline"
   ]
  },
  {
   "cell_type": "code",
   "execution_count": 6,
   "metadata": {
    "executionInfo": {
     "elapsed": 840,
     "status": "ok",
     "timestamp": 1621398344531,
     "user": {
      "displayName": "Ramesh Bhutka",
      "photoUrl": "https://lh3.googleusercontent.com/-jBSHGVJvh3M/AAAAAAAAAAI/AAAAAAAAchY/NveHJuhGTqU/s64/photo.jpg",
      "userId": "06756766942721289592"
     },
     "user_tz": -330
    },
    "id": "8BFwUddO8-Vs"
   },
   "outputs": [],
   "source": [
    "# load dataset\n",
    "path = \"https://raw.githubusercontent.com/jbrownlee/Datasets/master/housing.data\"\n",
    "dataframe = pandas.read_csv(path, delim_whitespace=True, header=None)\n",
    "dataset = dataframe.values\n",
    "# split into input (X) and output (Y) variables\n",
    "X = dataset[:,0:13]\n",
    "Y = dataset[:,13]"
   ]
  },
  {
   "cell_type": "code",
   "execution_count": 61,
   "metadata": {
    "colab": {
     "base_uri": "https://localhost:8080/",
     "height": 206
    },
    "executionInfo": {
     "elapsed": 1021,
     "status": "ok",
     "timestamp": 1621400495769,
     "user": {
      "displayName": "Ramesh Bhutka",
      "photoUrl": "https://lh3.googleusercontent.com/-jBSHGVJvh3M/AAAAAAAAAAI/AAAAAAAAchY/NveHJuhGTqU/s64/photo.jpg",
      "userId": "06756766942721289592"
     },
     "user_tz": -330
    },
    "id": "v75FOyPLAAtg",
    "outputId": "7abbf6a1-6054-417d-d9ee-291907861651"
   },
   "outputs": [
    {
     "data": {
      "text/html": [
       "<div>\n",
       "<style scoped>\n",
       "    .dataframe tbody tr th:only-of-type {\n",
       "        vertical-align: middle;\n",
       "    }\n",
       "\n",
       "    .dataframe tbody tr th {\n",
       "        vertical-align: top;\n",
       "    }\n",
       "\n",
       "    .dataframe thead th {\n",
       "        text-align: right;\n",
       "    }\n",
       "</style>\n",
       "<table border=\"1\" class=\"dataframe\">\n",
       "  <thead>\n",
       "    <tr style=\"text-align: right;\">\n",
       "      <th></th>\n",
       "      <th>0</th>\n",
       "      <th>1</th>\n",
       "      <th>2</th>\n",
       "      <th>3</th>\n",
       "      <th>4</th>\n",
       "      <th>5</th>\n",
       "      <th>6</th>\n",
       "      <th>7</th>\n",
       "      <th>8</th>\n",
       "      <th>9</th>\n",
       "      <th>10</th>\n",
       "      <th>11</th>\n",
       "      <th>12</th>\n",
       "      <th>13</th>\n",
       "    </tr>\n",
       "  </thead>\n",
       "  <tbody>\n",
       "    <tr>\n",
       "      <th>0</th>\n",
       "      <td>0.00632</td>\n",
       "      <td>18.0</td>\n",
       "      <td>2.31</td>\n",
       "      <td>0</td>\n",
       "      <td>0.538</td>\n",
       "      <td>6.575</td>\n",
       "      <td>65.2</td>\n",
       "      <td>4.0900</td>\n",
       "      <td>1</td>\n",
       "      <td>296.0</td>\n",
       "      <td>15.3</td>\n",
       "      <td>396.90</td>\n",
       "      <td>4.98</td>\n",
       "      <td>24.0</td>\n",
       "    </tr>\n",
       "    <tr>\n",
       "      <th>1</th>\n",
       "      <td>0.02731</td>\n",
       "      <td>0.0</td>\n",
       "      <td>7.07</td>\n",
       "      <td>0</td>\n",
       "      <td>0.469</td>\n",
       "      <td>6.421</td>\n",
       "      <td>78.9</td>\n",
       "      <td>4.9671</td>\n",
       "      <td>2</td>\n",
       "      <td>242.0</td>\n",
       "      <td>17.8</td>\n",
       "      <td>396.90</td>\n",
       "      <td>9.14</td>\n",
       "      <td>21.6</td>\n",
       "    </tr>\n",
       "    <tr>\n",
       "      <th>2</th>\n",
       "      <td>0.02729</td>\n",
       "      <td>0.0</td>\n",
       "      <td>7.07</td>\n",
       "      <td>0</td>\n",
       "      <td>0.469</td>\n",
       "      <td>7.185</td>\n",
       "      <td>61.1</td>\n",
       "      <td>4.9671</td>\n",
       "      <td>2</td>\n",
       "      <td>242.0</td>\n",
       "      <td>17.8</td>\n",
       "      <td>392.83</td>\n",
       "      <td>4.03</td>\n",
       "      <td>34.7</td>\n",
       "    </tr>\n",
       "    <tr>\n",
       "      <th>3</th>\n",
       "      <td>0.03237</td>\n",
       "      <td>0.0</td>\n",
       "      <td>2.18</td>\n",
       "      <td>0</td>\n",
       "      <td>0.458</td>\n",
       "      <td>6.998</td>\n",
       "      <td>45.8</td>\n",
       "      <td>6.0622</td>\n",
       "      <td>3</td>\n",
       "      <td>222.0</td>\n",
       "      <td>18.7</td>\n",
       "      <td>394.63</td>\n",
       "      <td>2.94</td>\n",
       "      <td>33.4</td>\n",
       "    </tr>\n",
       "    <tr>\n",
       "      <th>4</th>\n",
       "      <td>0.06905</td>\n",
       "      <td>0.0</td>\n",
       "      <td>2.18</td>\n",
       "      <td>0</td>\n",
       "      <td>0.458</td>\n",
       "      <td>7.147</td>\n",
       "      <td>54.2</td>\n",
       "      <td>6.0622</td>\n",
       "      <td>3</td>\n",
       "      <td>222.0</td>\n",
       "      <td>18.7</td>\n",
       "      <td>396.90</td>\n",
       "      <td>5.33</td>\n",
       "      <td>36.2</td>\n",
       "    </tr>\n",
       "  </tbody>\n",
       "</table>\n",
       "</div>"
      ],
      "text/plain": [
       "        0     1     2   3      4      5   ...  8      9     10      11    12    13\n",
       "0  0.00632  18.0  2.31   0  0.538  6.575  ...   1  296.0  15.3  396.90  4.98  24.0\n",
       "1  0.02731   0.0  7.07   0  0.469  6.421  ...   2  242.0  17.8  396.90  9.14  21.6\n",
       "2  0.02729   0.0  7.07   0  0.469  7.185  ...   2  242.0  17.8  392.83  4.03  34.7\n",
       "3  0.03237   0.0  2.18   0  0.458  6.998  ...   3  222.0  18.7  394.63  2.94  33.4\n",
       "4  0.06905   0.0  2.18   0  0.458  7.147  ...   3  222.0  18.7  396.90  5.33  36.2\n",
       "\n",
       "[5 rows x 14 columns]"
      ]
     },
     "execution_count": 61,
     "metadata": {
      "tags": []
     },
     "output_type": "execute_result"
    }
   ],
   "source": [
    "dataframe.head()"
   ]
  },
  {
   "cell_type": "code",
   "execution_count": 34,
   "metadata": {
    "colab": {
     "base_uri": "https://localhost:8080/"
    },
    "executionInfo": {
     "elapsed": 909,
     "status": "ok",
     "timestamp": 1621399361251,
     "user": {
      "displayName": "Ramesh Bhutka",
      "photoUrl": "https://lh3.googleusercontent.com/-jBSHGVJvh3M/AAAAAAAAAAI/AAAAAAAAchY/NveHJuhGTqU/s64/photo.jpg",
      "userId": "06756766942721289592"
     },
     "user_tz": -330
    },
    "id": "t9JvvDLB7ZPE",
    "outputId": "19651a97-46c1-4243-de98-818065341993"
   },
   "outputs": [
    {
     "name": "stdout",
     "output_type": "stream",
     "text": [
      "(354, 13)\n",
      "(152, 13)\n"
     ]
    }
   ],
   "source": [
    "from sklearn.model_selection import train_test_split\n",
    "X_train, X_test, y_train, y_test = train_test_split(X, Y, test_size=0.30, random_state=40)\n",
    "print(X_train.shape); print(X_test.shape)"
   ]
  },
  {
   "cell_type": "markdown",
   "metadata": {
    "id": "ouuzgMQj4EvL"
   },
   "source": [
    "### Topology\n",
    "**13 inputs -> [13 -> 6] -> 1**"
   ]
  },
  {
   "cell_type": "code",
   "execution_count": 35,
   "metadata": {
    "executionInfo": {
     "elapsed": 909,
     "status": "ok",
     "timestamp": 1621399365726,
     "user": {
      "displayName": "Ramesh Bhutka",
      "photoUrl": "https://lh3.googleusercontent.com/-jBSHGVJvh3M/AAAAAAAAAAI/AAAAAAAAchY/NveHJuhGTqU/s64/photo.jpg",
      "userId": "06756766942721289592"
     },
     "user_tz": -330
    },
    "id": "HDUEsxCa5beX"
   },
   "outputs": [],
   "source": [
    "# create model\n",
    "model = Sequential()\n",
    "model.add(Dense(13, input_dim=13, kernel_initializer='normal', activation='relu'))\n",
    "model.add(Dense(6, kernel_initializer='normal', activation='relu'))\n",
    "model.add(Dense(1, kernel_initializer='normal'))"
   ]
  },
  {
   "cell_type": "code",
   "execution_count": 36,
   "metadata": {
    "colab": {
     "base_uri": "https://localhost:8080/"
    },
    "executionInfo": {
     "elapsed": 1289,
     "status": "ok",
     "timestamp": 1621399367874,
     "user": {
      "displayName": "Ramesh Bhutka",
      "photoUrl": "https://lh3.googleusercontent.com/-jBSHGVJvh3M/AAAAAAAAAAI/AAAAAAAAchY/NveHJuhGTqU/s64/photo.jpg",
      "userId": "06756766942721289592"
     },
     "user_tz": -330
    },
    "id": "xP1h9m1l5sWo",
    "outputId": "58960032-0873-40c1-8038-8a3208f43c1d"
   },
   "outputs": [
    {
     "name": "stdout",
     "output_type": "stream",
     "text": [
      "Model: \"sequential_11\"\n",
      "_________________________________________________________________\n",
      "Layer (type)                 Output Shape              Param #   \n",
      "=================================================================\n",
      "dense_33 (Dense)             (None, 13)                182       \n",
      "_________________________________________________________________\n",
      "dense_34 (Dense)             (None, 6)                 84        \n",
      "_________________________________________________________________\n",
      "dense_35 (Dense)             (None, 1)                 7         \n",
      "=================================================================\n",
      "Total params: 273\n",
      "Trainable params: 273\n",
      "Non-trainable params: 0\n",
      "_________________________________________________________________\n"
     ]
    }
   ],
   "source": [
    "model.summary()"
   ]
  },
  {
   "cell_type": "code",
   "execution_count": 37,
   "metadata": {
    "executionInfo": {
     "elapsed": 690,
     "status": "ok",
     "timestamp": 1621399369410,
     "user": {
      "displayName": "Ramesh Bhutka",
      "photoUrl": "https://lh3.googleusercontent.com/-jBSHGVJvh3M/AAAAAAAAAAI/AAAAAAAAchY/NveHJuhGTqU/s64/photo.jpg",
      "userId": "06756766942721289592"
     },
     "user_tz": -330
    },
    "id": "aHhr1IQ_5v1S"
   },
   "outputs": [],
   "source": [
    "# compile the keras model\n",
    "model.compile(\n",
    "    loss='mean_squared_error', \n",
    "    optimizer='adam', \n",
    "    metrics=[\"mean_squared_error\"])"
   ]
  },
  {
   "cell_type": "code",
   "execution_count": 52,
   "metadata": {
    "colab": {
     "base_uri": "https://localhost:8080/"
    },
    "executionInfo": {
     "elapsed": 9380,
     "status": "ok",
     "timestamp": 1621400223446,
     "user": {
      "displayName": "Ramesh Bhutka",
      "photoUrl": "https://lh3.googleusercontent.com/-jBSHGVJvh3M/AAAAAAAAAAI/AAAAAAAAchY/NveHJuhGTqU/s64/photo.jpg",
      "userId": "06756766942721289592"
     },
     "user_tz": -330
    },
    "id": "MqLH_mIj57Pf",
    "outputId": "e130533e-61d9-4a28-e090-bdc0fc595ac0"
   },
   "outputs": [
    {
     "name": "stdout",
     "output_type": "stream",
     "text": [
      "Epoch 1/50\n",
      "71/71 [==============================] - 0s 3ms/step - loss: 22.3674 - mean_squared_error: 22.3674 - val_loss: 34.2891 - val_mean_squared_error: 34.2891\n",
      "Epoch 2/50\n",
      "71/71 [==============================] - 0s 2ms/step - loss: 21.2064 - mean_squared_error: 21.2064 - val_loss: 33.1660 - val_mean_squared_error: 33.1660\n",
      "Epoch 3/50\n",
      "71/71 [==============================] - 0s 2ms/step - loss: 22.0923 - mean_squared_error: 22.0923 - val_loss: 36.7170 - val_mean_squared_error: 36.7170\n",
      "Epoch 4/50\n",
      "71/71 [==============================] - 0s 2ms/step - loss: 20.7007 - mean_squared_error: 20.7007 - val_loss: 32.1941 - val_mean_squared_error: 32.1941\n",
      "Epoch 5/50\n",
      "71/71 [==============================] - 0s 3ms/step - loss: 20.7075 - mean_squared_error: 20.7075 - val_loss: 32.3560 - val_mean_squared_error: 32.3560\n",
      "Epoch 6/50\n",
      "71/71 [==============================] - 0s 2ms/step - loss: 21.1318 - mean_squared_error: 21.1318 - val_loss: 30.2203 - val_mean_squared_error: 30.2203\n",
      "Epoch 7/50\n",
      "71/71 [==============================] - 0s 2ms/step - loss: 21.3176 - mean_squared_error: 21.3176 - val_loss: 34.1903 - val_mean_squared_error: 34.1903\n",
      "Epoch 8/50\n",
      "71/71 [==============================] - 0s 2ms/step - loss: 20.4790 - mean_squared_error: 20.4790 - val_loss: 34.8463 - val_mean_squared_error: 34.8463\n",
      "Epoch 9/50\n",
      "71/71 [==============================] - 0s 2ms/step - loss: 20.8835 - mean_squared_error: 20.8835 - val_loss: 38.6288 - val_mean_squared_error: 38.6288\n",
      "Epoch 10/50\n",
      "71/71 [==============================] - 0s 2ms/step - loss: 20.7890 - mean_squared_error: 20.7890 - val_loss: 32.5769 - val_mean_squared_error: 32.5769\n",
      "Epoch 11/50\n",
      "71/71 [==============================] - 0s 2ms/step - loss: 20.7703 - mean_squared_error: 20.7703 - val_loss: 33.6649 - val_mean_squared_error: 33.6649\n",
      "Epoch 12/50\n",
      "71/71 [==============================] - 0s 2ms/step - loss: 20.6285 - mean_squared_error: 20.6285 - val_loss: 32.4107 - val_mean_squared_error: 32.4107\n",
      "Epoch 13/50\n",
      "71/71 [==============================] - 0s 2ms/step - loss: 20.9499 - mean_squared_error: 20.9499 - val_loss: 30.4002 - val_mean_squared_error: 30.4002\n",
      "Epoch 14/50\n",
      "71/71 [==============================] - 0s 2ms/step - loss: 20.3893 - mean_squared_error: 20.3893 - val_loss: 34.4077 - val_mean_squared_error: 34.4077\n",
      "Epoch 15/50\n",
      "71/71 [==============================] - 0s 2ms/step - loss: 20.3490 - mean_squared_error: 20.3490 - val_loss: 32.1087 - val_mean_squared_error: 32.1087\n",
      "Epoch 16/50\n",
      "71/71 [==============================] - 0s 2ms/step - loss: 20.1559 - mean_squared_error: 20.1559 - val_loss: 33.5735 - val_mean_squared_error: 33.5735\n",
      "Epoch 17/50\n",
      "71/71 [==============================] - 0s 2ms/step - loss: 20.6924 - mean_squared_error: 20.6924 - val_loss: 33.4549 - val_mean_squared_error: 33.4549\n",
      "Epoch 18/50\n",
      "71/71 [==============================] - 0s 2ms/step - loss: 20.2501 - mean_squared_error: 20.2501 - val_loss: 29.4504 - val_mean_squared_error: 29.4504\n",
      "Epoch 19/50\n",
      "71/71 [==============================] - 0s 2ms/step - loss: 19.7527 - mean_squared_error: 19.7527 - val_loss: 33.8802 - val_mean_squared_error: 33.8802\n",
      "Epoch 20/50\n",
      "71/71 [==============================] - 0s 2ms/step - loss: 20.1023 - mean_squared_error: 20.1023 - val_loss: 34.7958 - val_mean_squared_error: 34.7958\n",
      "Epoch 21/50\n",
      "71/71 [==============================] - 0s 2ms/step - loss: 20.2543 - mean_squared_error: 20.2543 - val_loss: 31.2442 - val_mean_squared_error: 31.2442\n",
      "Epoch 22/50\n",
      "71/71 [==============================] - 0s 2ms/step - loss: 20.3112 - mean_squared_error: 20.3112 - val_loss: 30.7373 - val_mean_squared_error: 30.7373\n",
      "Epoch 23/50\n",
      "71/71 [==============================] - 0s 2ms/step - loss: 20.4166 - mean_squared_error: 20.4166 - val_loss: 33.6548 - val_mean_squared_error: 33.6548\n",
      "Epoch 24/50\n",
      "71/71 [==============================] - 0s 2ms/step - loss: 19.9268 - mean_squared_error: 19.9268 - val_loss: 34.0387 - val_mean_squared_error: 34.0387\n",
      "Epoch 25/50\n",
      "71/71 [==============================] - 0s 2ms/step - loss: 19.5831 - mean_squared_error: 19.5831 - val_loss: 38.4762 - val_mean_squared_error: 38.4762\n",
      "Epoch 26/50\n",
      "71/71 [==============================] - 0s 2ms/step - loss: 20.3020 - mean_squared_error: 20.3020 - val_loss: 33.0083 - val_mean_squared_error: 33.0083\n",
      "Epoch 27/50\n",
      "71/71 [==============================] - 0s 3ms/step - loss: 20.1430 - mean_squared_error: 20.1430 - val_loss: 35.7725 - val_mean_squared_error: 35.7725\n",
      "Epoch 28/50\n",
      "71/71 [==============================] - 0s 2ms/step - loss: 20.3208 - mean_squared_error: 20.3208 - val_loss: 32.2833 - val_mean_squared_error: 32.2833\n",
      "Epoch 29/50\n",
      "71/71 [==============================] - 0s 2ms/step - loss: 19.2773 - mean_squared_error: 19.2773 - val_loss: 32.4696 - val_mean_squared_error: 32.4696\n",
      "Epoch 30/50\n",
      "71/71 [==============================] - 0s 2ms/step - loss: 20.8253 - mean_squared_error: 20.8253 - val_loss: 29.7177 - val_mean_squared_error: 29.7177\n",
      "Epoch 31/50\n",
      "71/71 [==============================] - 0s 2ms/step - loss: 21.3534 - mean_squared_error: 21.3534 - val_loss: 31.5314 - val_mean_squared_error: 31.5314\n",
      "Epoch 32/50\n",
      "71/71 [==============================] - 0s 2ms/step - loss: 19.6111 - mean_squared_error: 19.6111 - val_loss: 29.5345 - val_mean_squared_error: 29.5345\n",
      "Epoch 33/50\n",
      "71/71 [==============================] - 0s 2ms/step - loss: 19.8121 - mean_squared_error: 19.8121 - val_loss: 34.1911 - val_mean_squared_error: 34.1911\n",
      "Epoch 34/50\n",
      "71/71 [==============================] - 0s 2ms/step - loss: 19.1810 - mean_squared_error: 19.1810 - val_loss: 35.8045 - val_mean_squared_error: 35.8045\n",
      "Epoch 35/50\n",
      "71/71 [==============================] - 0s 3ms/step - loss: 19.3086 - mean_squared_error: 19.3086 - val_loss: 31.6650 - val_mean_squared_error: 31.6650\n",
      "Epoch 36/50\n",
      "71/71 [==============================] - 0s 2ms/step - loss: 19.3830 - mean_squared_error: 19.3830 - val_loss: 32.2022 - val_mean_squared_error: 32.2022\n",
      "Epoch 37/50\n",
      "71/71 [==============================] - 0s 2ms/step - loss: 19.4065 - mean_squared_error: 19.4065 - val_loss: 32.6165 - val_mean_squared_error: 32.6165\n",
      "Epoch 38/50\n",
      "71/71 [==============================] - 0s 2ms/step - loss: 18.9159 - mean_squared_error: 18.9159 - val_loss: 34.7916 - val_mean_squared_error: 34.7916\n",
      "Epoch 39/50\n",
      "71/71 [==============================] - 0s 2ms/step - loss: 18.8279 - mean_squared_error: 18.8279 - val_loss: 33.8502 - val_mean_squared_error: 33.8502\n",
      "Epoch 40/50\n",
      "71/71 [==============================] - 0s 2ms/step - loss: 18.6767 - mean_squared_error: 18.6767 - val_loss: 29.4125 - val_mean_squared_error: 29.4125\n",
      "Epoch 41/50\n",
      "71/71 [==============================] - 0s 2ms/step - loss: 19.4128 - mean_squared_error: 19.4128 - val_loss: 32.2547 - val_mean_squared_error: 32.2547\n",
      "Epoch 42/50\n",
      "71/71 [==============================] - 0s 2ms/step - loss: 19.4087 - mean_squared_error: 19.4087 - val_loss: 37.9185 - val_mean_squared_error: 37.9185\n",
      "Epoch 43/50\n",
      "71/71 [==============================] - 0s 2ms/step - loss: 20.0049 - mean_squared_error: 20.0049 - val_loss: 36.7765 - val_mean_squared_error: 36.7765\n",
      "Epoch 44/50\n",
      "71/71 [==============================] - 0s 2ms/step - loss: 18.6098 - mean_squared_error: 18.6098 - val_loss: 29.9218 - val_mean_squared_error: 29.9218\n",
      "Epoch 45/50\n",
      "71/71 [==============================] - 0s 2ms/step - loss: 19.2528 - mean_squared_error: 19.2528 - val_loss: 29.7586 - val_mean_squared_error: 29.7586\n",
      "Epoch 46/50\n",
      "71/71 [==============================] - 0s 2ms/step - loss: 19.3663 - mean_squared_error: 19.3663 - val_loss: 32.3087 - val_mean_squared_error: 32.3087\n",
      "Epoch 47/50\n",
      "71/71 [==============================] - 0s 2ms/step - loss: 18.9311 - mean_squared_error: 18.9311 - val_loss: 29.4969 - val_mean_squared_error: 29.4969\n",
      "Epoch 48/50\n",
      "71/71 [==============================] - 0s 2ms/step - loss: 18.7662 - mean_squared_error: 18.7662 - val_loss: 30.0615 - val_mean_squared_error: 30.0615\n",
      "Epoch 49/50\n",
      "71/71 [==============================] - 0s 2ms/step - loss: 19.2770 - mean_squared_error: 19.2770 - val_loss: 39.0292 - val_mean_squared_error: 39.0292\n",
      "Epoch 50/50\n",
      "71/71 [==============================] - 0s 2ms/step - loss: 18.5024 - mean_squared_error: 18.5024 - val_loss: 31.4274 - val_mean_squared_error: 31.4274\n"
     ]
    }
   ],
   "source": [
    "# training the model\n",
    "import tensorflow as tf\n",
    "tf.random.set_seed(18)\n",
    "history = model.fit(\n",
    "        X_train, y_train,\n",
    "        epochs = 50,\n",
    "        batch_size=5,\n",
    "        validation_data = (X_test, y_test)\n",
    "        )"
   ]
  },
  {
   "cell_type": "code",
   "execution_count": 53,
   "metadata": {
    "colab": {
     "base_uri": "https://localhost:8080/"
    },
    "executionInfo": {
     "elapsed": 894,
     "status": "ok",
     "timestamp": 1621400226149,
     "user": {
      "displayName": "Ramesh Bhutka",
      "photoUrl": "https://lh3.googleusercontent.com/-jBSHGVJvh3M/AAAAAAAAAAI/AAAAAAAAchY/NveHJuhGTqU/s64/photo.jpg",
      "userId": "06756766942721289592"
     },
     "user_tz": -330
    },
    "id": "kA-JYsMN7FFM",
    "outputId": "a840de71-2731-4c89-823d-59cc8c54bf85"
   },
   "outputs": [
    {
     "name": "stdout",
     "output_type": "stream",
     "text": [
      "4.188960129734115\n",
      "5.606016263599958\n"
     ]
    }
   ],
   "source": [
    "import numpy as np\n",
    "from sklearn.metrics import mean_squared_error\n",
    "pred_train= model.predict(X_train)\n",
    "print(np.sqrt(mean_squared_error(y_train,pred_train)))\n",
    "\n",
    "pred= model.predict(X_test)\n",
    "print(np.sqrt(mean_squared_error(y_test,pred))) "
   ]
  },
  {
   "cell_type": "code",
   "execution_count": null,
   "metadata": {
    "id": "Q8lQLX2y9SYw"
   },
   "outputs": [],
   "source": []
  },
  {
   "cell_type": "code",
   "execution_count": 62,
   "metadata": {
    "executionInfo": {
     "elapsed": 897,
     "status": "ok",
     "timestamp": 1621400567808,
     "user": {
      "displayName": "Ramesh Bhutka",
      "photoUrl": "https://lh3.googleusercontent.com/-jBSHGVJvh3M/AAAAAAAAAAI/AAAAAAAAchY/NveHJuhGTqU/s64/photo.jpg",
      "userId": "06756766942721289592"
     },
     "user_tz": -330
    },
    "id": "ksRdgJ49AM3A"
   },
   "outputs": [],
   "source": [
    "from sklearn.model_selection import KFold\n",
    "kfold = KFold(n_splits=5, shuffle=True)"
   ]
  },
  {
   "cell_type": "code",
   "execution_count": 67,
   "metadata": {
    "colab": {
     "base_uri": "https://localhost:8080/",
     "height": 343
    },
    "executionInfo": {
     "elapsed": 935,
     "status": "error",
     "timestamp": 1621400816182,
     "user": {
      "displayName": "Ramesh Bhutka",
      "photoUrl": "https://lh3.googleusercontent.com/-jBSHGVJvh3M/AAAAAAAAAAI/AAAAAAAAchY/NveHJuhGTqU/s64/photo.jpg",
      "userId": "06756766942721289592"
     },
     "user_tz": -330
    },
    "id": "-NLRxmSfAUjT",
    "outputId": "e3d53fd0-f586-4849-a534-02a84e9b70a6"
   },
   "outputs": [
    {
     "ename": "TypeError",
     "evalue": "ignored",
     "output_type": "error",
     "traceback": [
      "\u001b[0;31m---------------------------------------------------------------------------\u001b[0m",
      "\u001b[0;31mTypeError\u001b[0m                                 Traceback (most recent call last)",
      "\u001b[0;32m<ipython-input-67-ca0cd0cd0289>\u001b[0m in \u001b[0;36m<module>\u001b[0;34m()\u001b[0m\n\u001b[0;32m----> 1\u001b[0;31m \u001b[0mresults\u001b[0m \u001b[0;34m=\u001b[0m \u001b[0mcross_val_score\u001b[0m\u001b[0;34m(\u001b[0m\u001b[0mmodel\u001b[0m\u001b[0;34m,\u001b[0m \u001b[0mX\u001b[0m\u001b[0;34m,\u001b[0m \u001b[0mY\u001b[0m\u001b[0;34m,\u001b[0m  \u001b[0mcv\u001b[0m\u001b[0;34m=\u001b[0m\u001b[0mkfold\u001b[0m\u001b[0;34m)\u001b[0m\u001b[0;34m\u001b[0m\u001b[0;34m\u001b[0m\u001b[0m\n\u001b[0m",
      "\u001b[0;32m/usr/local/lib/python3.7/dist-packages/sklearn/model_selection/_validation.py\u001b[0m in \u001b[0;36mcross_val_score\u001b[0;34m(estimator, X, y, groups, scoring, cv, n_jobs, verbose, fit_params, pre_dispatch, error_score)\u001b[0m\n\u001b[1;32m    381\u001b[0m     \"\"\"\n\u001b[1;32m    382\u001b[0m     \u001b[0;31m# To ensure multimetric format is not supported\u001b[0m\u001b[0;34m\u001b[0m\u001b[0;34m\u001b[0m\u001b[0;34m\u001b[0m\u001b[0m\n\u001b[0;32m--> 383\u001b[0;31m     \u001b[0mscorer\u001b[0m \u001b[0;34m=\u001b[0m \u001b[0mcheck_scoring\u001b[0m\u001b[0;34m(\u001b[0m\u001b[0mestimator\u001b[0m\u001b[0;34m,\u001b[0m \u001b[0mscoring\u001b[0m\u001b[0;34m=\u001b[0m\u001b[0mscoring\u001b[0m\u001b[0;34m)\u001b[0m\u001b[0;34m\u001b[0m\u001b[0;34m\u001b[0m\u001b[0m\n\u001b[0m\u001b[1;32m    384\u001b[0m \u001b[0;34m\u001b[0m\u001b[0m\n\u001b[1;32m    385\u001b[0m     cv_results = cross_validate(estimator=estimator, X=X, y=y, groups=groups,\n",
      "\u001b[0;32m/usr/local/lib/python3.7/dist-packages/sklearn/metrics/_scorer.py\u001b[0m in \u001b[0;36mcheck_scoring\u001b[0;34m(estimator, scoring, allow_none)\u001b[0m\n\u001b[1;32m    424\u001b[0m                 \u001b[0;34m\"If no scoring is specified, the estimator passed should \"\u001b[0m\u001b[0;34m\u001b[0m\u001b[0;34m\u001b[0m\u001b[0m\n\u001b[1;32m    425\u001b[0m                 \u001b[0;34m\"have a 'score' method. The estimator %r does not.\"\u001b[0m\u001b[0;34m\u001b[0m\u001b[0;34m\u001b[0m\u001b[0m\n\u001b[0;32m--> 426\u001b[0;31m                 % estimator)\n\u001b[0m\u001b[1;32m    427\u001b[0m     \u001b[0;32melif\u001b[0m \u001b[0misinstance\u001b[0m\u001b[0;34m(\u001b[0m\u001b[0mscoring\u001b[0m\u001b[0;34m,\u001b[0m \u001b[0mIterable\u001b[0m\u001b[0;34m)\u001b[0m\u001b[0;34m:\u001b[0m\u001b[0;34m\u001b[0m\u001b[0;34m\u001b[0m\u001b[0m\n\u001b[1;32m    428\u001b[0m         raise ValueError(\"For evaluating multiple scores, use \"\n",
      "\u001b[0;31mTypeError\u001b[0m: If no scoring is specified, the estimator passed should have a 'score' method. The estimator <tensorflow.python.keras.engine.sequential.Sequential object at 0x7faa879e2290> does not."
     ]
    }
   ],
   "source": [
    "results = cross_val_score(model, X, Y, scoring='', cv=kfold)"
   ]
  },
  {
   "cell_type": "code",
   "execution_count": 58,
   "metadata": {
    "colab": {
     "base_uri": "https://localhost:8080/",
     "height": 109
    },
    "executionInfo": {
     "elapsed": 4504,
     "status": "ok",
     "timestamp": 1621400367080,
     "user": {
      "displayName": "Ramesh Bhutka",
      "photoUrl": "https://lh3.googleusercontent.com/-jBSHGVJvh3M/AAAAAAAAAAI/AAAAAAAAchY/NveHJuhGTqU/s64/photo.jpg",
      "userId": "06756766942721289592"
     },
     "user_tz": -330
    },
    "id": "j5HiQyXZ4tl5",
    "outputId": "5b202796-28ca-4819-dc21-a15d755fc8ad"
   },
   "outputs": [
    {
     "name": "stdout",
     "output_type": "stream",
     "text": [
      "[jovian] Detected Colab notebook...\u001b[0m\n",
      "[jovian] Uploading colab notebook to Jovian...\u001b[0m\n",
      "[jovian] Capturing environment..\u001b[0m\n",
      "[jovian] Committed successfully! https://jovian.ai/rameshbhutka11/practical-14a\u001b[0m\n"
     ]
    },
    {
     "data": {
      "application/vnd.google.colaboratory.intrinsic+json": {
       "type": "string"
      },
      "text/plain": [
       "'https://jovian.ai/rameshbhutka11/practical-14a'"
      ]
     },
     "execution_count": 58,
     "metadata": {
      "tags": []
     },
     "output_type": "execute_result"
    }
   ],
   "source": [
    "jovian.commit(project=\"practical-14a\")"
   ]
  },
  {
   "cell_type": "code",
   "execution_count": null,
   "metadata": {
    "id": "ztquGfmy_cb2"
   },
   "outputs": [],
   "source": []
  }
 ],
 "metadata": {
  "colab": {
   "collapsed_sections": [],
   "name": "practical-14a.ipynb",
   "provenance": []
  },
  "language_info": {
   "codemirror_mode": {
    "name": "ipython",
    "version": 3
   },
   "file_extension": ".py",
   "mimetype": "text/x-python",
   "name": "python",
   "nbconvert_exporter": "python",
   "pygments_lexer": "ipython3",
   "version": "3.7.6"
  }
 },
 "nbformat": 4,
 "nbformat_minor": 0
}