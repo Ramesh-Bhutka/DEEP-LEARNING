{
 "cells": [
  {
   "cell_type": "markdown",
   "id": "variable-differential",
   "metadata": {},
   "source": [
    "## Practical 3 : Overdetermined and underdetermined systems"
   ]
  },
  {
   "cell_type": "code",
   "execution_count": 1,
   "id": "fallen-diamond",
   "metadata": {},
   "outputs": [
    {
     "name": "stdout",
     "output_type": "stream",
     "text": [
      "Name :- Ramesh Bhutka\n",
      "Sap ID:- 53004190003\n"
     ]
    }
   ],
   "source": [
    "print(\"Name :- Ramesh Bhutka\")\n",
    "print(\"Sap ID:- 53004190003\")"
   ]
  },
  {
   "cell_type": "code",
   "execution_count": 2,
   "id": "partial-opinion",
   "metadata": {},
   "outputs": [
    {
     "name": "stdout",
     "output_type": "stream",
     "text": [
      "2021-03-12 11:56:31.325446\n"
     ]
    }
   ],
   "source": [
    "from datetime import datetime\n",
    "time = datetime.now()\n",
    "print(time)"
   ]
  },
  {
   "cell_type": "code",
   "execution_count": null,
   "id": "cultural-italy",
   "metadata": {},
   "outputs": [],
   "source": []
  },
  {
   "cell_type": "code",
   "execution_count": null,
   "id": "environmental-anxiety",
   "metadata": {},
   "outputs": [],
   "source": []
  },
  {
   "cell_type": "markdown",
   "id": "eight-generic",
   "metadata": {},
   "source": [
    "### <b>Overdetermined System Example<b>\n",
    "#### Where Number of equations (m) are more than number of unknown variables (n).\n",
    "#### m > n"
   ]
  },
  {
   "cell_type": "code",
   "execution_count": 3,
   "id": "narrow-edward",
   "metadata": {},
   "outputs": [
    {
     "name": "stdout",
     "output_type": "stream",
     "text": [
      "2021-03-12 11:56:31.325446 \n",
      "\n"
     ]
    }
   ],
   "source": [
    "print(time,\"\\n\")\n",
    "import numpy as np\n",
    "import matplotlib.pyplot as plt"
   ]
  },
  {
   "cell_type": "code",
   "execution_count": 4,
   "id": "british-cartridge",
   "metadata": {},
   "outputs": [
    {
     "name": "stdout",
     "output_type": "stream",
     "text": [
      "2021-03-12 11:56:31.325446 \n",
      "\n"
     ]
    },
    {
     "data": {
      "image/png": "[encoded data removed]",
      "text/plain": [
       "<Figure size 432x288 with 1 Axes>"
      ]
     },
     "metadata": {
      "needs_background": "light"
     },
     "output_type": "display_data"
    }
   ],
   "source": [
    "print(time,\"\\n\")\n",
    "\n",
    "x = np.arange(-10, 10)\n",
    "\n",
    "y = 9*x + 3\n",
    "y1 = 2*x + 3\n",
    "y2 = 0.2*x+8\n",
    "\n",
    "plt.figure()\n",
    "plt.plot(x, y)\n",
    "plt.plot(x, y1)\n",
    "plt.plot(x, y2)\n",
    "plt.xlim(-2, 10)\n",
    "plt.ylim(-2, 10)\n",
    "#  axes\n",
    "plt.axvline(x=0, color='#A9A9A9')\n",
    "plt.axhline(y=0, color='#A9A9A9')\n",
    "plt.show()\n",
    "plt.close()"
   ]
  },
  {
   "cell_type": "code",
   "execution_count": 5,
   "id": "extra-chrome",
   "metadata": {},
   "outputs": [
    {
     "name": "stdout",
     "output_type": "stream",
     "text": [
      "2021-03-12 11:56:31.325446 \n",
      "\n"
     ]
    },
    {
     "data": {
      "text/plain": [
       "array([[9. , 3. ],\n",
       "       [2. , 3. ],\n",
       "       [0.2, 8. ]])"
      ]
     },
     "execution_count": 5,
     "metadata": {},
     "output_type": "execute_result"
    }
   ],
   "source": [
    "# wiritng the equation in matrix form\n",
    "print(time,\"\\n\")\n",
    "\n",
    "A = np.array([[9,3],[2, 3],[0.2, 8]])\n",
    "A"
   ]
  },
  {
   "cell_type": "code",
   "execution_count": 6,
   "id": "prospective-implement",
   "metadata": {},
   "outputs": [
    {
     "name": "stdout",
     "output_type": "stream",
     "text": [
      "2021-03-12 11:56:31.325446 \n",
      "\n"
     ]
    },
    {
     "ename": "LinAlgError",
     "evalue": "Last 2 dimensions of the array must be square",
     "output_type": "error",
     "traceback": [
      "\u001b[1;31m---------------------------------------------------------------------------\u001b[0m",
      "\u001b[1;31mLinAlgError\u001b[0m                               Traceback (most recent call last)",
      "\u001b[1;32m<ipython-input-6-5935732b496c>\u001b[0m in \u001b[0;36m<module>\u001b[1;34m\u001b[0m\n\u001b[0;32m      1\u001b[0m \u001b[0mprint\u001b[0m\u001b[1;33m(\u001b[0m\u001b[0mtime\u001b[0m\u001b[1;33m,\u001b[0m\u001b[1;34m\"\\n\"\u001b[0m\u001b[1;33m)\u001b[0m\u001b[1;33m\u001b[0m\u001b[1;33m\u001b[0m\u001b[0m\n\u001b[0;32m      2\u001b[0m \u001b[1;33m\u001b[0m\u001b[0m\n\u001b[1;32m----> 3\u001b[1;33m \u001b[0mA_inv\u001b[0m \u001b[1;33m=\u001b[0m \u001b[0mnp\u001b[0m\u001b[1;33m.\u001b[0m\u001b[0mlinalg\u001b[0m\u001b[1;33m.\u001b[0m\u001b[0minv\u001b[0m\u001b[1;33m(\u001b[0m\u001b[0mA\u001b[0m\u001b[1;33m)\u001b[0m\u001b[1;33m\u001b[0m\u001b[1;33m\u001b[0m\u001b[0m\n\u001b[0m\u001b[0;32m      4\u001b[0m \u001b[0mprint\u001b[0m\u001b[1;33m(\u001b[0m\u001b[1;34m\"A inverse : \\n\"\u001b[0m\u001b[1;33m,\u001b[0m \u001b[0mA_inv\u001b[0m\u001b[1;33m)\u001b[0m\u001b[1;33m\u001b[0m\u001b[1;33m\u001b[0m\u001b[0m\n",
      "\u001b[1;32m<__array_function__ internals>\u001b[0m in \u001b[0;36minv\u001b[1;34m(*args, **kwargs)\u001b[0m\n",
      "\u001b[1;32mc:\\python\\lib\\site-packages\\numpy\\linalg\\linalg.py\u001b[0m in \u001b[0;36minv\u001b[1;34m(a)\u001b[0m\n\u001b[0;32m    538\u001b[0m     \u001b[0ma\u001b[0m\u001b[1;33m,\u001b[0m \u001b[0mwrap\u001b[0m \u001b[1;33m=\u001b[0m \u001b[0m_makearray\u001b[0m\u001b[1;33m(\u001b[0m\u001b[0ma\u001b[0m\u001b[1;33m)\u001b[0m\u001b[1;33m\u001b[0m\u001b[1;33m\u001b[0m\u001b[0m\n\u001b[0;32m    539\u001b[0m     \u001b[0m_assert_stacked_2d\u001b[0m\u001b[1;33m(\u001b[0m\u001b[0ma\u001b[0m\u001b[1;33m)\u001b[0m\u001b[1;33m\u001b[0m\u001b[1;33m\u001b[0m\u001b[0m\n\u001b[1;32m--> 540\u001b[1;33m     \u001b[0m_assert_stacked_square\u001b[0m\u001b[1;33m(\u001b[0m\u001b[0ma\u001b[0m\u001b[1;33m)\u001b[0m\u001b[1;33m\u001b[0m\u001b[1;33m\u001b[0m\u001b[0m\n\u001b[0m\u001b[0;32m    541\u001b[0m     \u001b[0mt\u001b[0m\u001b[1;33m,\u001b[0m \u001b[0mresult_t\u001b[0m \u001b[1;33m=\u001b[0m \u001b[0m_commonType\u001b[0m\u001b[1;33m(\u001b[0m\u001b[0ma\u001b[0m\u001b[1;33m)\u001b[0m\u001b[1;33m\u001b[0m\u001b[1;33m\u001b[0m\u001b[0m\n\u001b[0;32m    542\u001b[0m \u001b[1;33m\u001b[0m\u001b[0m\n",
      "\u001b[1;32mc:\\python\\lib\\site-packages\\numpy\\linalg\\linalg.py\u001b[0m in \u001b[0;36m_assert_stacked_square\u001b[1;34m(*arrays)\u001b[0m\n\u001b[0;32m    201\u001b[0m         \u001b[0mm\u001b[0m\u001b[1;33m,\u001b[0m \u001b[0mn\u001b[0m \u001b[1;33m=\u001b[0m \u001b[0ma\u001b[0m\u001b[1;33m.\u001b[0m\u001b[0mshape\u001b[0m\u001b[1;33m[\u001b[0m\u001b[1;33m-\u001b[0m\u001b[1;36m2\u001b[0m\u001b[1;33m:\u001b[0m\u001b[1;33m]\u001b[0m\u001b[1;33m\u001b[0m\u001b[1;33m\u001b[0m\u001b[0m\n\u001b[0;32m    202\u001b[0m         \u001b[1;32mif\u001b[0m \u001b[0mm\u001b[0m \u001b[1;33m!=\u001b[0m \u001b[0mn\u001b[0m\u001b[1;33m:\u001b[0m\u001b[1;33m\u001b[0m\u001b[1;33m\u001b[0m\u001b[0m\n\u001b[1;32m--> 203\u001b[1;33m             \u001b[1;32mraise\u001b[0m \u001b[0mLinAlgError\u001b[0m\u001b[1;33m(\u001b[0m\u001b[1;34m'Last 2 dimensions of the array must be square'\u001b[0m\u001b[1;33m)\u001b[0m\u001b[1;33m\u001b[0m\u001b[1;33m\u001b[0m\u001b[0m\n\u001b[0m\u001b[0;32m    204\u001b[0m \u001b[1;33m\u001b[0m\u001b[0m\n\u001b[0;32m    205\u001b[0m \u001b[1;32mdef\u001b[0m \u001b[0m_assert_finite\u001b[0m\u001b[1;33m(\u001b[0m\u001b[1;33m*\u001b[0m\u001b[0marrays\u001b[0m\u001b[1;33m)\u001b[0m\u001b[1;33m:\u001b[0m\u001b[1;33m\u001b[0m\u001b[1;33m\u001b[0m\u001b[0m\n",
      "\u001b[1;31mLinAlgError\u001b[0m: Last 2 dimensions of the array must be square"
     ]
    }
   ],
   "source": [
    "# finding the inverse of A\n",
    "print(time,\"\\n\")\n",
    "\n",
    "A_inv = np.linalg.inv(A)\n",
    "print(\"A inverse : \\n\", A_inv)"
   ]
  },
  {
   "cell_type": "code",
   "execution_count": null,
   "id": "assisted-universal",
   "metadata": {},
   "outputs": [],
   "source": []
  },
  {
   "cell_type": "markdown",
   "id": "angry-shareware",
   "metadata": {},
   "source": [
    "### <b>Underdetermined System Example<b> \n",
    "#### Where Number of equations (m) are less than number of unknown variables (n).\n",
    "#### m < n"
   ]
  },
  {
   "cell_type": "code",
   "execution_count": 7,
   "id": "removable-witness",
   "metadata": {},
   "outputs": [
    {
     "name": "stdout",
     "output_type": "stream",
     "text": [
      "2021-03-12 11:56:31.325446 \n",
      "\n"
     ]
    },
    {
     "data": {
      "image/png": "[encoded data removed]",
      "text/plain": [
       "<Figure size 432x288 with 1 Axes>"
      ]
     },
     "metadata": {
      "needs_background": "light"
     },
     "output_type": "display_data"
    }
   ],
   "source": [
    "print(time,\"\\n\")\n",
    "\n",
    "x = np.arange(-10, 10)\n",
    "\n",
    "y = 4*x - 2\n",
    "\n",
    "plt.figure()\n",
    "plt.plot(x, y)\n",
    "plt.xlim(-2, 10)\n",
    "plt.ylim(-2, 10)\n",
    "# axes\n",
    "plt.axvline(x=0, color='#A9A9A9')\n",
    "plt.axhline(y=0, color='#A9A9A9')\n",
    "plt.show()\n",
    "plt.close()"
   ]
  },
  {
   "cell_type": "code",
   "execution_count": null,
   "id": "allied-montgomery",
   "metadata": {},
   "outputs": [],
   "source": []
  },
  {
   "cell_type": "markdown",
   "id": "fleet-bridges",
   "metadata": {},
   "source": [
    "### <b>Ideal Solution<b>\n",
    "#### Where Number of equations (m) are more than number of unknown variables (n).\n",
    "#### m = n"
   ]
  },
  {
   "cell_type": "code",
   "execution_count": 8,
   "id": "harmful-contest",
   "metadata": {},
   "outputs": [
    {
     "name": "stdout",
     "output_type": "stream",
     "text": [
      "2021-03-12 11:56:31.325446 \n",
      "\n"
     ]
    },
    {
     "data": {
      "image/png": "[encoded data removed]",
      "text/plain": [
       "<Figure size 432x288 with 1 Axes>"
      ]
     },
     "metadata": {
      "needs_background": "light"
     },
     "output_type": "display_data"
    }
   ],
   "source": [
    "print(time,\"\\n\")\n",
    "\n",
    "x = np.arange(-10, 10)\n",
    "\n",
    "y = 2*x + 1\n",
    "y1 = 6*x - 2\n",
    "\n",
    "plt.figure()\n",
    "plt.plot(x, y)\n",
    "plt.plot(x, y1)\n",
    "plt.xlim(-2, 10)\n",
    "plt.ylim(-2, 10)\n",
    "#  axes\n",
    "plt.axvline(x=0, color='#A9A9A9')\n",
    "plt.axhline(y=0, color='#A9A9A9')\n",
    "plt.show()\n",
    "plt.close()"
   ]
  },
  {
   "cell_type": "code",
   "execution_count": 9,
   "id": "immune-variety",
   "metadata": {},
   "outputs": [
    {
     "name": "stdout",
     "output_type": "stream",
     "text": [
      "2021-03-12 11:56:31.325446 \n",
      "\n"
     ]
    },
    {
     "data": {
      "text/plain": [
       "array([[ 2,  1],\n",
       "       [ 6, -2]])"
      ]
     },
     "execution_count": 9,
     "metadata": {},
     "output_type": "execute_result"
    }
   ],
   "source": [
    "# wiritng the equation in matrix form\n",
    "print(time,\"\\n\")\n",
    "\n",
    "A = np.array([[2,1],[6, -2]])\n",
    "A"
   ]
  },
  {
   "cell_type": "code",
   "execution_count": 10,
   "id": "banned-brisbane",
   "metadata": {},
   "outputs": [
    {
     "name": "stdout",
     "output_type": "stream",
     "text": [
      "2021-03-12 11:56:31.325446 \n",
      "\n",
      "A inverse : \n",
      " [[ 0.2  0.1]\n",
      " [ 0.6 -0.2]]\n"
     ]
    }
   ],
   "source": [
    "# finding the inverse of A\n",
    "print(time,\"\\n\")\n",
    "\n",
    "A_inv = np.linalg.inv(A)\n",
    "print(\"A inverse : \\n\", A_inv)"
   ]
  },
  {
   "cell_type": "code",
   "execution_count": 11,
   "id": "refined-reminder",
   "metadata": {},
   "outputs": [
    {
     "name": "stdout",
     "output_type": "stream",
     "text": [
      "2021-03-12 11:56:31.325446 \n",
      "\n",
      "Scalar b is : \n",
      " [[1]\n",
      " [1]]\n"
     ]
    }
   ],
   "source": [
    "print(time,\"\\n\")\n",
    "\n",
    "b = np.array([[1],[1]])\n",
    "print(\"Scalar b is : \\n\", b)"
   ]
  },
  {
   "cell_type": "code",
   "execution_count": 12,
   "id": "emotional-trace",
   "metadata": {},
   "outputs": [
    {
     "name": "stdout",
     "output_type": "stream",
     "text": [
      "2021-03-12 11:56:31.325446 \n",
      "\n",
      "Answer  : \n",
      " [[0.3]\n",
      " [0.4]]\n"
     ]
    }
   ],
   "source": [
    "print(time,\"\\n\")\n",
    "\n",
    "x = A_inv.dot(b)\n",
    "print(\"Answer  : \\n\", x)"
   ]
  },
  {
   "cell_type": "code",
   "execution_count": null,
   "id": "exact-corps",
   "metadata": {},
   "outputs": [],
   "source": []
  }
 ],
 "metadata": {
  "kernelspec": {
   "display_name": "Python 3",
   "language": "python",
   "name": "python3"
  },
  "language_info": {
   "codemirror_mode": {
    "name": "ipython",
    "version": 3
   },
   "file_extension": ".py",
   "mimetype": "text/x-python",
   "name": "python",
   "nbconvert_exporter": "python",
   "pygments_lexer": "ipython3",
   "version": "3.8.7"
  }
 },
 "nbformat": 4,
 "nbformat_minor": 5
}
