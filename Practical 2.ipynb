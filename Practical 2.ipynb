{
 "cells": [
  {
   "cell_type": "markdown",
   "id": "strange-benefit",
   "metadata": {},
   "source": [
    "## Practical 2: Sovling a system of linear equations"
   ]
  },
  {
   "cell_type": "code",
   "execution_count": 31,
   "id": "focal-worship",
   "metadata": {},
   "outputs": [
    {
     "name": "stdout",
     "output_type": "stream",
     "text": [
      "Name :- Ramesh Bhutka\n",
      "Sap ID:- 53004190003\n"
     ]
    }
   ],
   "source": [
    "print(\"Name :- Ramesh Bhutka\")\n",
    "print(\"Sap ID:- 53004190003\")"
   ]
  },
  {
   "cell_type": "code",
   "execution_count": 32,
   "id": "banned-barcelona",
   "metadata": {},
   "outputs": [
    {
     "name": "stdout",
     "output_type": "stream",
     "text": [
      "2021-03-07 12:24:31.091571\n"
     ]
    }
   ],
   "source": [
    "from datetime import datetime\n",
    "time = datetime.now()\n",
    "print(time)"
   ]
  },
  {
   "cell_type": "markdown",
   "id": "white-eight",
   "metadata": {},
   "source": [
    "# Equations\n",
    "\n",
    "### 4x + 3y = −2\n",
    "### 8x − 2y = 12"
   ]
  },
  {
   "cell_type": "code",
   "execution_count": 33,
   "id": "blind-discovery",
   "metadata": {},
   "outputs": [
    {
     "name": "stdout",
     "output_type": "stream",
     "text": [
      "2021-03-07 12:24:31.091571 \n",
      "\n"
     ]
    }
   ],
   "source": [
    "print(time,\"\\n\")\n",
    "import numpy as np"
   ]
  },
  {
   "cell_type": "code",
   "execution_count": 34,
   "id": "durable-illinois",
   "metadata": {},
   "outputs": [
    {
     "name": "stdout",
     "output_type": "stream",
     "text": [
      "2021-03-07 12:24:31.091571 \n",
      "\n",
      "Matrix A is : \n",
      " [[ 4  3]\n",
      " [ 8 -2]]\n"
     ]
    }
   ],
   "source": [
    "print(time,\"\\n\")\n",
    "A = np.array([[4,3],[8,-2]])\n",
    "print(\"Matrix A is : \\n\", A)"
   ]
  },
  {
   "cell_type": "code",
   "execution_count": 35,
   "id": "finite-elimination",
   "metadata": {},
   "outputs": [
    {
     "name": "stdout",
     "output_type": "stream",
     "text": [
      "2021-03-07 12:24:31.091571 \n",
      "\n",
      "A inverse : \n",
      " [[ 0.0625   0.09375]\n",
      " [ 0.25    -0.125  ]]\n"
     ]
    }
   ],
   "source": [
    "print(time,\"\\n\")\n",
    "A_inv = np.linalg.inv(A)\n",
    "print(\"A inverse : \\n\", A_inv)"
   ]
  },
  {
   "cell_type": "code",
   "execution_count": 36,
   "id": "collect-corrections",
   "metadata": {},
   "outputs": [
    {
     "name": "stdout",
     "output_type": "stream",
     "text": [
      "2021-03-07 12:24:31.091571 \n",
      "\n",
      "Scalar b is : \n",
      " [[-2]\n",
      " [12]]\n"
     ]
    }
   ],
   "source": [
    "print(time,\"\\n\")\n",
    "b = np.array([[-2],[12]])\n",
    "print(\"Scalar b is : \\n\", b)"
   ]
  },
  {
   "cell_type": "code",
   "execution_count": 37,
   "id": "crude-egypt",
   "metadata": {},
   "outputs": [
    {
     "name": "stdout",
     "output_type": "stream",
     "text": [
      "2021-03-07 12:24:31.091571 \n",
      "\n",
      "Answer  : \n",
      " [[ 1.]\n",
      " [-2.]]\n"
     ]
    }
   ],
   "source": [
    "print(time,\"\\n\")\n",
    "x = A_inv.dot(b)\n",
    "print(\"Answer  : \\n\", x)"
   ]
  },
  {
   "cell_type": "code",
   "execution_count": null,
   "id": "herbal-scene",
   "metadata": {},
   "outputs": [],
   "source": []
  },
  {
   "cell_type": "markdown",
   "id": "joined-eugene",
   "metadata": {},
   "source": [
    "## WITH RANDOM NUMBER"
   ]
  },
  {
   "cell_type": "code",
   "execution_count": 53,
   "id": "included-formation",
   "metadata": {},
   "outputs": [
    {
     "name": "stdout",
     "output_type": "stream",
     "text": [
      "2021-03-07 12:24:31.091571 \n",
      "\n",
      "Matrix A is : \n",
      " [[6 0 5]\n",
      " [9 0 7]\n",
      " [6 5 9]]\n"
     ]
    }
   ],
   "source": [
    "print(time,\"\\n\")\n",
    "A = np.random.randint(10, size=(3,3))\n",
    "print(\"Matrix A is : \\n\", A)"
   ]
  },
  {
   "cell_type": "code",
   "execution_count": 54,
   "id": "another-palestinian",
   "metadata": {},
   "outputs": [
    {
     "name": "stdout",
     "output_type": "stream",
     "text": [
      "2021-03-07 12:24:31.091571 \n",
      "\n",
      "A inverse : \n",
      " [[-2.33333333  1.66666667  0.        ]\n",
      " [-2.6         1.6         0.2       ]\n",
      " [ 3.         -2.          0.        ]]\n"
     ]
    }
   ],
   "source": [
    "print(time,\"\\n\")\n",
    "A_inv = np.linalg.inv(A)\n",
    "print(\"A inverse : \\n\", A_inv)"
   ]
  },
  {
   "cell_type": "code",
   "execution_count": 55,
   "id": "colonial-horizon",
   "metadata": {},
   "outputs": [
    {
     "name": "stdout",
     "output_type": "stream",
     "text": [
      "2021-03-07 12:24:31.091571 \n",
      "\n",
      "Scalar b is : \n",
      " [[6]\n",
      " [3]\n",
      " [2]]\n"
     ]
    }
   ],
   "source": [
    "print(time,\"\\n\")\n",
    "b = np.random.randint(10, size=(3,1))\n",
    "print(\"Scalar b is : \\n\", b)"
   ]
  },
  {
   "cell_type": "code",
   "execution_count": null,
   "id": "otherwise-chick",
   "metadata": {},
   "outputs": [],
   "source": []
  },
  {
   "cell_type": "code",
   "execution_count": 56,
   "id": "functioning-france",
   "metadata": {},
   "outputs": [
    {
     "name": "stdout",
     "output_type": "stream",
     "text": [
      "2021-03-07 12:24:31.091571 \n",
      "\n",
      "Answer  : \n",
      " [[ -9. ]\n",
      " [-10.4]\n",
      " [ 12. ]]\n"
     ]
    }
   ],
   "source": [
    "print(time,\"\\n\")\n",
    "x = A_inv.dot(b)\n",
    "print(\"Answer  : \\n\", x)"
   ]
  },
  {
   "cell_type": "code",
   "execution_count": null,
   "id": "practical-spyware",
   "metadata": {},
   "outputs": [],
   "source": []
  }
 ],
 "metadata": {
  "kernelspec": {
   "display_name": "Python 3",
   "language": "python",
   "name": "python3"
  },
  "language_info": {
   "codemirror_mode": {
    "name": "ipython",
    "version": 3
   },
   "file_extension": ".py",
   "mimetype": "text/x-python",
   "name": "python",
   "nbconvert_exporter": "python",
   "pygments_lexer": "ipython3",
   "version": "3.8.7"
  }
 },
 "nbformat": 4,
 "nbformat_minor": 5
}
